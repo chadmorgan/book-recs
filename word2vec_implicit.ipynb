{
 "cells": [
  {
   "cell_type": "code",
   "execution_count": 1,
   "metadata": {
    "collapsed": true
   },
   "outputs": [],
   "source": [
    "import pandas as pd\n",
    "from matplotlib import pyplot as plt"
   ]
  },
  {
   "cell_type": "code",
   "execution_count": 4,
   "metadata": {},
   "outputs": [],
   "source": [
    "import numpy as np\n",
    "from gensim.models import Word2Vec"
   ]
  },
  {
   "cell_type": "code",
   "execution_count": 60,
   "metadata": {},
   "outputs": [
    {
     "data": {
      "text/html": [
       "<div>\n",
       "<style>\n",
       "    .dataframe thead tr:only-child th {\n",
       "        text-align: right;\n",
       "    }\n",
       "\n",
       "    .dataframe thead th {\n",
       "        text-align: left;\n",
       "    }\n",
       "\n",
       "    .dataframe tbody tr th {\n",
       "        vertical-align: top;\n",
       "    }\n",
       "</style>\n",
       "<table border=\"1\" class=\"dataframe\">\n",
       "  <thead>\n",
       "    <tr style=\"text-align: right;\">\n",
       "      <th></th>\n",
       "      <th>book_id</th>\n",
       "      <th>title</th>\n",
       "      <th>authors</th>\n",
       "    </tr>\n",
       "  </thead>\n",
       "  <tbody>\n",
       "    <tr>\n",
       "      <th>0</th>\n",
       "      <td>1</td>\n",
       "      <td>The Hunger Games (The Hunger Games, #1)</td>\n",
       "      <td>Suzanne Collins</td>\n",
       "    </tr>\n",
       "    <tr>\n",
       "      <th>1</th>\n",
       "      <td>2</td>\n",
       "      <td>Harry Potter and the Sorcerer's Stone (Harry P...</td>\n",
       "      <td>J.K. Rowling, Mary GrandPré</td>\n",
       "    </tr>\n",
       "    <tr>\n",
       "      <th>2</th>\n",
       "      <td>3</td>\n",
       "      <td>Twilight (Twilight, #1)</td>\n",
       "      <td>Stephenie Meyer</td>\n",
       "    </tr>\n",
       "    <tr>\n",
       "      <th>3</th>\n",
       "      <td>4</td>\n",
       "      <td>To Kill a Mockingbird</td>\n",
       "      <td>Harper Lee</td>\n",
       "    </tr>\n",
       "    <tr>\n",
       "      <th>4</th>\n",
       "      <td>5</td>\n",
       "      <td>The Great Gatsby</td>\n",
       "      <td>F. Scott Fitzgerald</td>\n",
       "    </tr>\n",
       "    <tr>\n",
       "      <th>5</th>\n",
       "      <td>6</td>\n",
       "      <td>The Fault in Our Stars</td>\n",
       "      <td>John Green</td>\n",
       "    </tr>\n",
       "    <tr>\n",
       "      <th>6</th>\n",
       "      <td>7</td>\n",
       "      <td>The Hobbit</td>\n",
       "      <td>J.R.R. Tolkien</td>\n",
       "    </tr>\n",
       "    <tr>\n",
       "      <th>7</th>\n",
       "      <td>8</td>\n",
       "      <td>The Catcher in the Rye</td>\n",
       "      <td>J.D. Salinger</td>\n",
       "    </tr>\n",
       "    <tr>\n",
       "      <th>8</th>\n",
       "      <td>9</td>\n",
       "      <td>Angels &amp; Demons  (Robert Langdon, #1)</td>\n",
       "      <td>Dan Brown</td>\n",
       "    </tr>\n",
       "    <tr>\n",
       "      <th>9</th>\n",
       "      <td>10</td>\n",
       "      <td>Pride and Prejudice</td>\n",
       "      <td>Jane Austen</td>\n",
       "    </tr>\n",
       "    <tr>\n",
       "      <th>10</th>\n",
       "      <td>11</td>\n",
       "      <td>The Kite Runner</td>\n",
       "      <td>Khaled Hosseini</td>\n",
       "    </tr>\n",
       "    <tr>\n",
       "      <th>11</th>\n",
       "      <td>12</td>\n",
       "      <td>Divergent (Divergent, #1)</td>\n",
       "      <td>Veronica Roth</td>\n",
       "    </tr>\n",
       "    <tr>\n",
       "      <th>12</th>\n",
       "      <td>13</td>\n",
       "      <td>1984</td>\n",
       "      <td>George Orwell, Erich Fromm, Celâl Üster</td>\n",
       "    </tr>\n",
       "    <tr>\n",
       "      <th>13</th>\n",
       "      <td>14</td>\n",
       "      <td>Animal Farm</td>\n",
       "      <td>George Orwell</td>\n",
       "    </tr>\n",
       "    <tr>\n",
       "      <th>14</th>\n",
       "      <td>15</td>\n",
       "      <td>The Diary of a Young Girl</td>\n",
       "      <td>Anne Frank, Eleanor Roosevelt, B.M. Mooyaart-D...</td>\n",
       "    </tr>\n",
       "    <tr>\n",
       "      <th>15</th>\n",
       "      <td>16</td>\n",
       "      <td>The Girl with the Dragon Tattoo (Millennium, #1)</td>\n",
       "      <td>Stieg Larsson, Reg Keeland</td>\n",
       "    </tr>\n",
       "    <tr>\n",
       "      <th>16</th>\n",
       "      <td>17</td>\n",
       "      <td>Catching Fire (The Hunger Games, #2)</td>\n",
       "      <td>Suzanne Collins</td>\n",
       "    </tr>\n",
       "    <tr>\n",
       "      <th>17</th>\n",
       "      <td>18</td>\n",
       "      <td>Harry Potter and the Prisoner of Azkaban (Harr...</td>\n",
       "      <td>J.K. Rowling, Mary GrandPré, Rufus Beck</td>\n",
       "    </tr>\n",
       "    <tr>\n",
       "      <th>18</th>\n",
       "      <td>19</td>\n",
       "      <td>The Fellowship of the Ring (The Lord of the Ri...</td>\n",
       "      <td>J.R.R. Tolkien</td>\n",
       "    </tr>\n",
       "    <tr>\n",
       "      <th>19</th>\n",
       "      <td>20</td>\n",
       "      <td>Mockingjay (The Hunger Games, #3)</td>\n",
       "      <td>Suzanne Collins</td>\n",
       "    </tr>\n",
       "    <tr>\n",
       "      <th>20</th>\n",
       "      <td>21</td>\n",
       "      <td>Harry Potter and the Order of the Phoenix (Har...</td>\n",
       "      <td>J.K. Rowling, Mary GrandPré</td>\n",
       "    </tr>\n",
       "    <tr>\n",
       "      <th>21</th>\n",
       "      <td>22</td>\n",
       "      <td>The Lovely Bones</td>\n",
       "      <td>Alice Sebold</td>\n",
       "    </tr>\n",
       "    <tr>\n",
       "      <th>22</th>\n",
       "      <td>23</td>\n",
       "      <td>Harry Potter and the Chamber of Secrets (Harry...</td>\n",
       "      <td>J.K. Rowling, Mary GrandPré</td>\n",
       "    </tr>\n",
       "    <tr>\n",
       "      <th>23</th>\n",
       "      <td>24</td>\n",
       "      <td>Harry Potter and the Goblet of Fire (Harry Pot...</td>\n",
       "      <td>J.K. Rowling, Mary GrandPré</td>\n",
       "    </tr>\n",
       "    <tr>\n",
       "      <th>24</th>\n",
       "      <td>25</td>\n",
       "      <td>Harry Potter and the Deathly Hallows (Harry Po...</td>\n",
       "      <td>J.K. Rowling, Mary GrandPré</td>\n",
       "    </tr>\n",
       "    <tr>\n",
       "      <th>25</th>\n",
       "      <td>26</td>\n",
       "      <td>The Da Vinci Code (Robert Langdon, #2)</td>\n",
       "      <td>Dan Brown</td>\n",
       "    </tr>\n",
       "    <tr>\n",
       "      <th>26</th>\n",
       "      <td>27</td>\n",
       "      <td>Harry Potter and the Half-Blood Prince (Harry ...</td>\n",
       "      <td>J.K. Rowling, Mary GrandPré</td>\n",
       "    </tr>\n",
       "    <tr>\n",
       "      <th>27</th>\n",
       "      <td>28</td>\n",
       "      <td>Lord of the Flies</td>\n",
       "      <td>William Golding</td>\n",
       "    </tr>\n",
       "    <tr>\n",
       "      <th>28</th>\n",
       "      <td>29</td>\n",
       "      <td>Romeo and Juliet</td>\n",
       "      <td>William Shakespeare, Robert           Jackson</td>\n",
       "    </tr>\n",
       "    <tr>\n",
       "      <th>29</th>\n",
       "      <td>30</td>\n",
       "      <td>Gone Girl</td>\n",
       "      <td>Gillian Flynn</td>\n",
       "    </tr>\n",
       "  </tbody>\n",
       "</table>\n",
       "</div>"
      ],
      "text/plain": [
       "    book_id                                              title  \\\n",
       "0         1            The Hunger Games (The Hunger Games, #1)   \n",
       "1         2  Harry Potter and the Sorcerer's Stone (Harry P...   \n",
       "2         3                            Twilight (Twilight, #1)   \n",
       "3         4                              To Kill a Mockingbird   \n",
       "4         5                                   The Great Gatsby   \n",
       "5         6                             The Fault in Our Stars   \n",
       "6         7                                         The Hobbit   \n",
       "7         8                             The Catcher in the Rye   \n",
       "8         9              Angels & Demons  (Robert Langdon, #1)   \n",
       "9        10                                Pride and Prejudice   \n",
       "10       11                                    The Kite Runner   \n",
       "11       12                          Divergent (Divergent, #1)   \n",
       "12       13                                               1984   \n",
       "13       14                                        Animal Farm   \n",
       "14       15                          The Diary of a Young Girl   \n",
       "15       16   The Girl with the Dragon Tattoo (Millennium, #1)   \n",
       "16       17               Catching Fire (The Hunger Games, #2)   \n",
       "17       18  Harry Potter and the Prisoner of Azkaban (Harr...   \n",
       "18       19  The Fellowship of the Ring (The Lord of the Ri...   \n",
       "19       20                  Mockingjay (The Hunger Games, #3)   \n",
       "20       21  Harry Potter and the Order of the Phoenix (Har...   \n",
       "21       22                                   The Lovely Bones   \n",
       "22       23  Harry Potter and the Chamber of Secrets (Harry...   \n",
       "23       24  Harry Potter and the Goblet of Fire (Harry Pot...   \n",
       "24       25  Harry Potter and the Deathly Hallows (Harry Po...   \n",
       "25       26             The Da Vinci Code (Robert Langdon, #2)   \n",
       "26       27  Harry Potter and the Half-Blood Prince (Harry ...   \n",
       "27       28                                  Lord of the Flies   \n",
       "28       29                                   Romeo and Juliet   \n",
       "29       30                                          Gone Girl   \n",
       "\n",
       "                                              authors  \n",
       "0                                     Suzanne Collins  \n",
       "1                         J.K. Rowling, Mary GrandPré  \n",
       "2                                     Stephenie Meyer  \n",
       "3                                          Harper Lee  \n",
       "4                                 F. Scott Fitzgerald  \n",
       "5                                          John Green  \n",
       "6                                      J.R.R. Tolkien  \n",
       "7                                       J.D. Salinger  \n",
       "8                                           Dan Brown  \n",
       "9                                         Jane Austen  \n",
       "10                                    Khaled Hosseini  \n",
       "11                                      Veronica Roth  \n",
       "12            George Orwell, Erich Fromm, Celâl Üster  \n",
       "13                                      George Orwell  \n",
       "14  Anne Frank, Eleanor Roosevelt, B.M. Mooyaart-D...  \n",
       "15                         Stieg Larsson, Reg Keeland  \n",
       "16                                    Suzanne Collins  \n",
       "17            J.K. Rowling, Mary GrandPré, Rufus Beck  \n",
       "18                                     J.R.R. Tolkien  \n",
       "19                                    Suzanne Collins  \n",
       "20                        J.K. Rowling, Mary GrandPré  \n",
       "21                                       Alice Sebold  \n",
       "22                        J.K. Rowling, Mary GrandPré  \n",
       "23                        J.K. Rowling, Mary GrandPré  \n",
       "24                        J.K. Rowling, Mary GrandPré  \n",
       "25                                          Dan Brown  \n",
       "26                        J.K. Rowling, Mary GrandPré  \n",
       "27                                    William Golding  \n",
       "28      William Shakespeare, Robert           Jackson  \n",
       "29                                      Gillian Flynn  "
      ]
     },
     "execution_count": 60,
     "metadata": {},
     "output_type": "execute_result"
    }
   ],
   "source": [
    "books = pd.read_csv('goodbooks-10k-master/books.csv')\n",
    "books[['book_id','title','authors']].head(30)"
   ]
  },
  {
   "cell_type": "code",
   "execution_count": 220,
   "metadata": {},
   "outputs": [
    {
     "data": {
      "text/html": [
       "<div>\n",
       "<style>\n",
       "    .dataframe thead tr:only-child th {\n",
       "        text-align: right;\n",
       "    }\n",
       "\n",
       "    .dataframe thead th {\n",
       "        text-align: left;\n",
       "    }\n",
       "\n",
       "    .dataframe tbody tr th {\n",
       "        vertical-align: top;\n",
       "    }\n",
       "</style>\n",
       "<table border=\"1\" class=\"dataframe\">\n",
       "  <thead>\n",
       "    <tr style=\"text-align: right;\">\n",
       "      <th></th>\n",
       "      <th>book_id</th>\n",
       "      <th>title</th>\n",
       "      <th>authors</th>\n",
       "    </tr>\n",
       "  </thead>\n",
       "  <tbody>\n",
       "    <tr>\n",
       "      <th>329</th>\n",
       "      <td>330</td>\n",
       "      <td>The Eye of the World (Wheel of Time, #1)</td>\n",
       "      <td>Robert Jordan</td>\n",
       "    </tr>\n",
       "    <tr>\n",
       "      <th>6217</th>\n",
       "      <td>6218</td>\n",
       "      <td>From the Two Rivers: The Eye of the World, Par...</td>\n",
       "      <td>Robert Jordan</td>\n",
       "    </tr>\n",
       "  </tbody>\n",
       "</table>\n",
       "</div>"
      ],
      "text/plain": [
       "      book_id                                              title  \\\n",
       "329       330           The Eye of the World (Wheel of Time, #1)   \n",
       "6217     6218  From the Two Rivers: The Eye of the World, Par...   \n",
       "\n",
       "            authors  \n",
       "329   Robert Jordan  \n",
       "6217  Robert Jordan  "
      ]
     },
     "execution_count": 220,
     "metadata": {},
     "output_type": "execute_result"
    }
   ],
   "source": [
    "books[books['title'].str.contains('Eye of the World')][['book_id','title','authors']]"
   ]
  },
  {
   "cell_type": "code",
   "execution_count": 97,
   "metadata": {},
   "outputs": [
    {
     "data": {
      "text/html": [
       "<div>\n",
       "<style>\n",
       "    .dataframe thead tr:only-child th {\n",
       "        text-align: right;\n",
       "    }\n",
       "\n",
       "    .dataframe thead th {\n",
       "        text-align: left;\n",
       "    }\n",
       "\n",
       "    .dataframe tbody tr th {\n",
       "        vertical-align: top;\n",
       "    }\n",
       "</style>\n",
       "<table border=\"1\" class=\"dataframe\">\n",
       "  <thead>\n",
       "    <tr style=\"text-align: right;\">\n",
       "      <th></th>\n",
       "      <th>user_id</th>\n",
       "      <th>book_id</th>\n",
       "      <th>rating</th>\n",
       "    </tr>\n",
       "  </thead>\n",
       "  <tbody>\n",
       "    <tr>\n",
       "      <th>0</th>\n",
       "      <td>1</td>\n",
       "      <td>258</td>\n",
       "      <td>5</td>\n",
       "    </tr>\n",
       "    <tr>\n",
       "      <th>1</th>\n",
       "      <td>2</td>\n",
       "      <td>4081</td>\n",
       "      <td>4</td>\n",
       "    </tr>\n",
       "    <tr>\n",
       "      <th>2</th>\n",
       "      <td>2</td>\n",
       "      <td>260</td>\n",
       "      <td>5</td>\n",
       "    </tr>\n",
       "    <tr>\n",
       "      <th>3</th>\n",
       "      <td>2</td>\n",
       "      <td>9296</td>\n",
       "      <td>5</td>\n",
       "    </tr>\n",
       "    <tr>\n",
       "      <th>4</th>\n",
       "      <td>2</td>\n",
       "      <td>2318</td>\n",
       "      <td>3</td>\n",
       "    </tr>\n",
       "  </tbody>\n",
       "</table>\n",
       "</div>"
      ],
      "text/plain": [
       "   user_id  book_id  rating\n",
       "0        1      258       5\n",
       "1        2     4081       4\n",
       "2        2      260       5\n",
       "3        2     9296       5\n",
       "4        2     2318       3"
      ]
     },
     "execution_count": 97,
     "metadata": {},
     "output_type": "execute_result"
    }
   ],
   "source": [
    "ratings = pd.read_csv('goodbooks-10k-master/ratings.csv')\n",
    "ratings.head()"
   ]
  },
  {
   "cell_type": "code",
   "execution_count": 42,
   "metadata": {},
   "outputs": [],
   "source": [
    "book_lookup_dict = {}\n",
    "for index, row in books.iterrows():\n",
    "    book_lookup_dict[row['book_id']] = row['title']"
   ]
  },
  {
   "cell_type": "code",
   "execution_count": 47,
   "metadata": {},
   "outputs": [],
   "source": [
    "user_ratings_dict = {}\n",
    "for index, row in ratings.iterrows():\n",
    "    u=row['user_id']\n",
    "    if u in user_ratings_dict:\n",
    "        user_ratings_dict[u].append(book_lookup_dict[row['book_id']])\n",
    "    else:\n",
    "        user_ratings_dict[u] = [book_lookup_dict[row['book_id']]]"
   ]
  },
  {
   "cell_type": "code",
   "execution_count": 50,
   "metadata": {},
   "outputs": [
    {
     "data": {
      "text/plain": [
       "['Anne of Green Gables (Anne of Green Gables, #1)',\n",
       " 'Anne of Avonlea (Anne of Green Gables, #2)',\n",
       " 'The Little Prince',\n",
       " \"Bridget Jones's Diary (Bridget Jones, #1)\",\n",
       " 'Bridget Jones: The Edge of Reason (Bridget Jones, #2)',\n",
       " 'Harry Potter and the Goblet of Fire (Harry Potter, #4)',\n",
       " 'Harry Potter and the Order of the Phoenix (Harry Potter, #5)',\n",
       " 'Harry Potter and the Half-Blood Prince (Harry Potter, #6)',\n",
       " 'Harry Potter and the Prisoner of Azkaban (Harry Potter, #3)',\n",
       " 'Me Talk Pretty One Day',\n",
       " 'Animal Farm',\n",
       " 'Of Mice and Men',\n",
       " 'A Tree Grows in Brooklyn',\n",
       " 'The Giver (The Giver, #1)',\n",
       " \"The Memory Keeper's Daughter\",\n",
       " \"She's Come Undone\",\n",
       " 'A Million Little Pieces',\n",
       " 'A Map of the World',\n",
       " 'Atlas Shrugged',\n",
       " 'The Fountainhead']"
      ]
     },
     "execution_count": 50,
     "metadata": {},
     "output_type": "execute_result"
    }
   ],
   "source": [
    "user_ratings_dict[250][0:20]"
   ]
  },
  {
   "cell_type": "code",
   "execution_count": 51,
   "metadata": {
    "collapsed": true
   },
   "outputs": [],
   "source": [
    "user_ratings_list = list(user_ratings_dict.values())"
   ]
  },
  {
   "cell_type": "code",
   "execution_count": 52,
   "metadata": {},
   "outputs": [
    {
     "data": {
      "text/plain": [
       "53424"
      ]
     },
     "execution_count": 52,
     "metadata": {},
     "output_type": "execute_result"
    }
   ],
   "source": [
    "len(user_ratings_list)"
   ]
  },
  {
   "cell_type": "markdown",
   "metadata": {},
   "source": [
    "### word2vec training on user sequences"
   ]
  },
  {
   "cell_type": "code",
   "execution_count": 68,
   "metadata": {},
   "outputs": [
    {
     "name": "stderr",
     "output_type": "stream",
     "text": [
      "WARNING:gensim.models.word2vec:consider setting layer size to a multiple of 4 for greater performance\n"
     ]
    }
   ],
   "source": [
    "w2v_model = Word2Vec(iter=5, \n",
    "        size=150,\n",
    "        window=5,\n",
    "        min_count=1,\n",
    "        sg=1,            \n",
    "        workers=8)"
   ]
  },
  {
   "cell_type": "code",
   "execution_count": 69,
   "metadata": {
    "collapsed": true
   },
   "outputs": [],
   "source": [
    "w2v_model.build_vocab(user_ratings_list)"
   ]
  },
  {
   "cell_type": "code",
   "execution_count": 70,
   "metadata": {},
   "outputs": [
    {
     "data": {
      "text/plain": [
       "29809986"
      ]
     },
     "execution_count": 70,
     "metadata": {},
     "output_type": "execute_result"
    }
   ],
   "source": [
    "w2v_model.train(user_ratings_list, total_examples=w2v_model.corpus_count, epochs=w2v_model.iter)"
   ]
  },
  {
   "cell_type": "code",
   "execution_count": 71,
   "metadata": {},
   "outputs": [
    {
     "name": "stderr",
     "output_type": "stream",
     "text": [
      "/Users/ChadMorgan/anaconda/lib/python3.6/site-packages/ipykernel_launcher.py:1: DeprecationWarning: Call to deprecated `most_similar` (Method will be removed in 4.0.0, use self.wv.most_similar() instead).\n",
      "  \"\"\"Entry point for launching an IPython kernel.\n"
     ]
    },
    {
     "data": {
      "text/plain": [
       "[(\"Anne's House of Dreams (Anne of Green Gables, #5)\", 0.8137673139572144),\n",
       " ('Anne of Windy Poplars (Anne of Green Gables, #4)', 0.7718566656112671),\n",
       " ('Anne of the Island (Anne of Green Gables, #3)', 0.7575632929801941),\n",
       " ('Anne of Ingleside (Anne of Green Gables, #6)', 0.7481300830841064),\n",
       " ('Rilla of Ingleside (Anne of Green Gables, #8)', 0.6845377683639526),\n",
       " ('Rainbow Valley (Anne of Green Gables, #7)', 0.6839284896850586),\n",
       " ('Emily of New Moon (Emily, #1)', 0.5995081663131714),\n",
       " ('Little Men (Little Women, #2)', 0.5817627310752869),\n",
       " ('The Blue Castle ', 0.5744936466217041),\n",
       " ('Emily Climbs (Emily, #2)', 0.5730841755867004)]"
      ]
     },
     "execution_count": 71,
     "metadata": {},
     "output_type": "execute_result"
    }
   ],
   "source": [
    "w2v_model.most_similar('Anne of Avonlea (Anne of Green Gables, #2)')"
   ]
  },
  {
   "cell_type": "code",
   "execution_count": 72,
   "metadata": {},
   "outputs": [
    {
     "name": "stderr",
     "output_type": "stream",
     "text": [
      "/Users/ChadMorgan/anaconda/lib/python3.6/site-packages/ipykernel_launcher.py:1: DeprecationWarning: Call to deprecated `most_similar` (Method will be removed in 4.0.0, use self.wv.most_similar() instead).\n",
      "  \"\"\"Entry point for launching an IPython kernel.\n"
     ]
    },
    {
     "data": {
      "text/plain": [
       "[('Free Four: Tobias Tells the Divergent Knife-Throwing Scene (Divergent, #1.5)',\n",
       "  0.6214812397956848),\n",
       " ('Legend (Legend, #1)', 0.558851420879364),\n",
       " ('City of Bones (The Mortal Instruments, #1)', 0.5427226424217224),\n",
       " ('The Fault in Our Stars', 0.5403486490249634),\n",
       " ('Clockwork Angel (The Infernal Devices, #1)', 0.5294054746627808),\n",
       " ('Life Before Legend: Stories of the Criminal and the Prodigy (Legend, #0.5)',\n",
       "  0.5218158960342407),\n",
       " ('Matched (Matched, #1)', 0.5208295583724976),\n",
       " ('Delirium (Delirium, #1)', 0.5208221673965454),\n",
       " ('The Transfer (Divergent, #0.1)', 0.5157473087310791),\n",
       " ('Pandemonium (Delirium, #2)', 0.5157122015953064)]"
      ]
     },
     "execution_count": 72,
     "metadata": {},
     "output_type": "execute_result"
    }
   ],
   "source": [
    "w2v_model.most_similar('Divergent (Divergent, #1)')"
   ]
  },
  {
   "cell_type": "code",
   "execution_count": 73,
   "metadata": {},
   "outputs": [
    {
     "name": "stderr",
     "output_type": "stream",
     "text": [
      "/Users/ChadMorgan/anaconda/lib/python3.6/site-packages/ipykernel_launcher.py:1: DeprecationWarning: Call to deprecated `most_similar` (Method will be removed in 4.0.0, use self.wv.most_similar() instead).\n",
      "  \"\"\"Entry point for launching an IPython kernel.\n"
     ]
    },
    {
     "data": {
      "text/plain": [
       "[('Atlas Shrugged', 0.8595150113105774),\n",
       " ('Siddhartha', 0.7032516002655029),\n",
       " ('The Road to Serfdom', 0.6446232199668884),\n",
       " ('The Unbearable Lightness of Being', 0.6166320443153381),\n",
       " ('Second Treatise of Government', 0.600271999835968),\n",
       " ('The Virtue of Selfishness: A New Concept of Egoism', 0.5978139638900757),\n",
       " ('We the Living', 0.5961178541183472),\n",
       " ('Invisible Man', 0.5879529714584351),\n",
       " ('A Confederacy of Dunces', 0.5840548276901245),\n",
       " ('Economics in One Lesson: The Shortest & Surest Way to Understand Basic Economics',\n",
       "  0.5810875296592712)]"
      ]
     },
     "execution_count": 73,
     "metadata": {},
     "output_type": "execute_result"
    }
   ],
   "source": [
    "w2v_model.most_similar('The Fountainhead')"
   ]
  },
  {
   "cell_type": "code",
   "execution_count": 74,
   "metadata": {},
   "outputs": [
    {
     "name": "stderr",
     "output_type": "stream",
     "text": [
      "/Users/ChadMorgan/anaconda/lib/python3.6/site-packages/ipykernel_launcher.py:1: DeprecationWarning: Call to deprecated `most_similar` (Method will be removed in 4.0.0, use self.wv.most_similar() instead).\n",
      "  \"\"\"Entry point for launching an IPython kernel.\n"
     ]
    },
    {
     "data": {
      "text/plain": [
       "[('The Once and Future King (The Once and Future King #1-4)',\n",
       "  0.5737870335578918),\n",
       " ('Siddhartha', 0.5642685294151306),\n",
       " ('Redwall (Redwall, #1)', 0.5616549849510193),\n",
       " ('Lord Brocktree (Redwall, #13)', 0.5556131601333618),\n",
       " ('Atlas Shrugged', 0.5433738827705383),\n",
       " ('The Wind in the Willows', 0.5381594896316528),\n",
       " ('The Fountainhead', 0.5341587662696838),\n",
       " ('The Dragonbone Chair (Memory, Sorrow, and Thorn, #1)', 0.5295690298080444),\n",
       " ('The Princess Bride ', 0.5285208821296692),\n",
       " ('The Wonderful Wizard of Oz (Oz, #1)', 0.5249261260032654)]"
      ]
     },
     "execution_count": 74,
     "metadata": {},
     "output_type": "execute_result"
    }
   ],
   "source": [
    "w2v_model.most_similar('Watership Down (Watership Down, #1)')"
   ]
  },
  {
   "cell_type": "code",
   "execution_count": 75,
   "metadata": {},
   "outputs": [
    {
     "name": "stderr",
     "output_type": "stream",
     "text": [
      "/Users/ChadMorgan/anaconda/lib/python3.6/site-packages/ipykernel_launcher.py:1: DeprecationWarning: Call to deprecated `most_similar` (Method will be removed in 4.0.0, use self.wv.most_similar() instead).\n",
      "  \"\"\"Entry point for launching an IPython kernel.\n"
     ]
    },
    {
     "data": {
      "text/plain": [
       "[('The Fountainhead', 0.8595148921012878),\n",
       " ('Siddhartha', 0.7408323884010315),\n",
       " ('The Road to Serfdom', 0.6345528364181519),\n",
       " (\"Zen Mind, Beginner's Mind: Informal Talks on Zen Meditation and Practice\",\n",
       "  0.5868801474571228),\n",
       " ('A History of Western Philosophy', 0.5863711833953857),\n",
       " ('Economics in One Lesson: The Shortest & Surest Way to Understand Basic Economics',\n",
       "  0.5814582705497742),\n",
       " ('Common Sense, The Rights of Man and Other Essential Writings',\n",
       "  0.5786297917366028),\n",
       " ('The Virtue of Selfishness: A New Concept of Egoism', 0.578102707862854),\n",
       " ('Second Treatise of Government', 0.5713158845901489),\n",
       " ('Two Treatises of Government', 0.5684026479721069)]"
      ]
     },
     "execution_count": 75,
     "metadata": {},
     "output_type": "execute_result"
    }
   ],
   "source": [
    "w2v_model.most_similar('Atlas Shrugged')"
   ]
  },
  {
   "cell_type": "code",
   "execution_count": 76,
   "metadata": {},
   "outputs": [
    {
     "name": "stderr",
     "output_type": "stream",
     "text": [
      "/Users/ChadMorgan/anaconda/lib/python3.6/site-packages/ipykernel_launcher.py:1: DeprecationWarning: Call to deprecated `most_similar` (Method will be removed in 4.0.0, use self.wv.most_similar() instead).\n",
      "  \"\"\"Entry point for launching an IPython kernel.\n"
     ]
    },
    {
     "data": {
      "text/plain": [
       "[('Peter Pan', 0.7439976334571838),\n",
       " ('The Wonderful Wizard of Oz (Oz, #1)', 0.6846657395362854),\n",
       " (\"The Complete Grimm's Fairy Tales\", 0.6781201958656311),\n",
       " ('Just So Stories', 0.6502512693405151),\n",
       " ('The Tale of Mrs. Tiggy-Winkle', 0.6474913954734802),\n",
       " ('A Little Princess', 0.6240366101264954),\n",
       " ('When We Were Very Young (Winnie-the-Pooh, #3)', 0.614892840385437),\n",
       " ('The Tale of Peter Rabbit', 0.6147154569625854),\n",
       " ('Alice in Wonderland', 0.6146117448806763),\n",
       " ('The Complete Fairy Tales', 0.608862042427063)]"
      ]
     },
     "execution_count": 76,
     "metadata": {},
     "output_type": "execute_result"
    }
   ],
   "source": [
    "w2v_model.most_similar('The Wind in the Willows')"
   ]
  },
  {
   "cell_type": "code",
   "execution_count": 77,
   "metadata": {},
   "outputs": [
    {
     "name": "stderr",
     "output_type": "stream",
     "text": [
      "/Users/ChadMorgan/anaconda/lib/python3.6/site-packages/ipykernel_launcher.py:1: DeprecationWarning: Call to deprecated `most_similar` (Method will be removed in 4.0.0, use self.wv.most_similar() instead).\n",
      "  \"\"\"Entry point for launching an IPython kernel.\n"
     ]
    },
    {
     "data": {
      "text/plain": [
       "[('The History of the Hobbit, Part One: Mr. Baggins', 0.5569245219230652),\n",
       " ('The Voyage of the Dawn Treader (Chronicles of Narnia, #3)',\n",
       "  0.5200710296630859),\n",
       " ('To Green Angel Tower (Memory, Sorrow, and Thorn, #3)', 0.46554747223854065),\n",
       " ('Magician: Master (The Riftwar Saga, #2)', 0.4654303789138794),\n",
       " ('To Green Angel Tower, Part 2 (Memory, Sorrow, and Thorn, #3; Part 2)',\n",
       "  0.4631262421607971),\n",
       " (\"Magician's Gambit (The Belgariad, #3)\", 0.44797012209892273),\n",
       " ('The Black Cauldron (The Chronicles of Prydain #2)', 0.44619518518447876),\n",
       " ('Stone of Farewell (Memory, Sorrow, and Thorn, #2)', 0.4458349645137787),\n",
       " ('The Hobbit: Graphic Novel', 0.4432245194911957),\n",
       " ('The Great Hunt (Wheel of Time, #2)', 0.4424341320991516)]"
      ]
     },
     "execution_count": 77,
     "metadata": {},
     "output_type": "execute_result"
    }
   ],
   "source": [
    "w2v_model.most_similar('The Hobbit')"
   ]
  },
  {
   "cell_type": "code",
   "execution_count": 82,
   "metadata": {},
   "outputs": [
    {
     "name": "stderr",
     "output_type": "stream",
     "text": [
      "/Users/ChadMorgan/anaconda/lib/python3.6/site-packages/ipykernel_launcher.py:1: DeprecationWarning: Call to deprecated `most_similar` (Method will be removed in 4.0.0, use self.wv.most_similar() instead).\n",
      "  \"\"\"Entry point for launching an IPython kernel.\n"
     ]
    },
    {
     "data": {
      "text/plain": [
       "[('The Children of Húrin', 0.8336758017539978),\n",
       " ('The Silmarillion (Middle-Earth Universe)', 0.7907360792160034),\n",
       " ('The Return of the King (The Lord of the Rings, #3)', 0.7257494926452637),\n",
       " ('The Two Towers (The Lord of the Rings, #2)', 0.720095157623291),\n",
       " ('The Power That Preserves (The Chronicles of Thomas Covenant the Unbeliever, #3)',\n",
       "  0.6097647547721863),\n",
       " (\"The Dark Elf Trilogy Collector's Edition (Forgotten Realms: Dark Elf Trilogy, #1-3; Legend of Drizzt, #1-3)\",\n",
       "  0.5934082269668579),\n",
       " ('The Lord of the Rings (The Lord of the Rings, #1-3)', 0.5835007429122925),\n",
       " ('The Complete Guide to Middle-Earth', 0.5775114297866821),\n",
       " ('The White Rose (The Chronicles of the Black Company, #3)',\n",
       "  0.572107195854187),\n",
       " (\"The Icewind Dale Trilogy Collector's Edition (Forgotten Realms: Icewind Dale, #1-3; Legend of Drizzt, #4-6)\",\n",
       "  0.5699194073677063)]"
      ]
     },
     "execution_count": 82,
     "metadata": {},
     "output_type": "execute_result"
    }
   ],
   "source": [
    "w2v_model.most_similar('Unfinished Tales of Númenor and Middle-Earth')"
   ]
  },
  {
   "cell_type": "code",
   "execution_count": 83,
   "metadata": {},
   "outputs": [
    {
     "name": "stderr",
     "output_type": "stream",
     "text": [
      "/Users/ChadMorgan/anaconda/lib/python3.6/site-packages/ipykernel_launcher.py:1: DeprecationWarning: Call to deprecated `most_similar` (Method will be removed in 4.0.0, use self.wv.most_similar() instead).\n",
      "  \"\"\"Entry point for launching an IPython kernel.\n"
     ]
    },
    {
     "data": {
      "text/plain": [
       "[('The Children of Húrin', 0.8240677714347839),\n",
       " ('Unfinished Tales of Númenor and Middle-Earth', 0.7907360792160034),\n",
       " ('The Two Towers (The Lord of the Rings, #2)', 0.757845938205719),\n",
       " ('The Return of the King (The Lord of the Rings, #3)', 0.740568220615387),\n",
       " ('The Lord of the Rings (The Lord of the Rings, #1-3)', 0.5943979620933533),\n",
       " (\"The Belgariad Boxed Set: Pawn of Prophecy / Queen of Sorcery / Magician's Gambit / Castle of Wizardry / Enchanters' End Game (The Belgariad, #1-5)\",\n",
       "  0.5734027028083801),\n",
       " ('The Chronicles of Thomas Covenant, the Unbeliever (The Chronicles of Thomas Covenant the Unbeliever, #1-3)',\n",
       "  0.5632948875427246),\n",
       " ('The White Rose (The Chronicles of the Black Company, #3)',\n",
       "  0.5627120137214661),\n",
       " ('J.R.R. Tolkien 4-Book Boxed Set: The Hobbit and The Lord of the Rings',\n",
       "  0.5557882785797119),\n",
       " (\"The Dark Elf Trilogy Collector's Edition (Forgotten Realms: Dark Elf Trilogy, #1-3; Legend of Drizzt, #1-3)\",\n",
       "  0.55531907081604)]"
      ]
     },
     "execution_count": 83,
     "metadata": {},
     "output_type": "execute_result"
    }
   ],
   "source": [
    "w2v_model.most_similar('The Silmarillion (Middle-Earth Universe)')"
   ]
  },
  {
   "cell_type": "code",
   "execution_count": 85,
   "metadata": {},
   "outputs": [
    {
     "name": "stderr",
     "output_type": "stream",
     "text": [
      "/Users/ChadMorgan/anaconda/lib/python3.6/site-packages/ipykernel_launcher.py:1: DeprecationWarning: Call to deprecated `most_similar` (Method will be removed in 4.0.0, use self.wv.most_similar() instead).\n",
      "  \"\"\"Entry point for launching an IPython kernel.\n"
     ]
    },
    {
     "data": {
      "text/plain": [
       "[('The Complete Guide to Middle-Earth', 0.5543145537376404),\n",
       " ('The Hobbit: Graphic Novel', 0.5456080436706543),\n",
       " ('The Farthest Shore (Earthsea Cycle, #3)', 0.5403525829315186),\n",
       " ('The History of the Hobbit, Part One: Mr. Baggins', 0.5347411632537842),\n",
       " ('The Lord of the Rings: The Art of The Fellowship of the Ring',\n",
       "  0.5178254246711731),\n",
       " (\"Enchanters' End Game (The Belgariad, #5)\", 0.49791544675827026),\n",
       " ('Magician: Master (The Riftwar Saga, #2)', 0.4675130546092987),\n",
       " ('The Dragon Reborn (Wheel of Time, #3)', 0.45706117153167725),\n",
       " ('The Lion, the Witch, and the Wardrobe (Chronicles of Narnia, #1)',\n",
       "  0.4564213752746582),\n",
       " ('The Legend of Huma (Dragonlance: Heroes, #1)', 0.4528716504573822)]"
      ]
     },
     "execution_count": 85,
     "metadata": {},
     "output_type": "execute_result"
    }
   ],
   "source": [
    "w2v_model.most_similar('The Fellowship of the Ring (The Lord of the Rings, #1)')"
   ]
  },
  {
   "cell_type": "code",
   "execution_count": 86,
   "metadata": {},
   "outputs": [
    {
     "name": "stderr",
     "output_type": "stream",
     "text": [
      "/Users/ChadMorgan/anaconda/lib/python3.6/site-packages/ipykernel_launcher.py:1: DeprecationWarning: Call to deprecated `most_similar` (Method will be removed in 4.0.0, use self.wv.most_similar() instead).\n",
      "  \"\"\"Entry point for launching an IPython kernel.\n"
     ]
    },
    {
     "data": {
      "text/plain": [
       "[('The Picture of Dorian Gray', 0.6947566866874695),\n",
       " ('The Count of Monte Cristo', 0.6364543437957764),\n",
       " ('Persuasion', 0.6280645132064819),\n",
       " ('Emma', 0.6268529295921326),\n",
       " ('Frankenstein', 0.6254807114601135),\n",
       " ('Les Misérables', 0.6021900177001953),\n",
       " ('Dracula (Marvel Illustrated)', 0.60067218542099),\n",
       " ('Great Expectations', 0.5952202677726746),\n",
       " ('The Legend of Sleepy Hollow (Graphic Novel)', 0.5939986705780029),\n",
       " ('The Complete Works of H.P. Lovecraft', 0.5873639583587646)]"
      ]
     },
     "execution_count": 86,
     "metadata": {},
     "output_type": "execute_result"
    }
   ],
   "source": [
    "w2v_model.most_similar('Dracula')"
   ]
  },
  {
   "cell_type": "code",
   "execution_count": 87,
   "metadata": {},
   "outputs": [
    {
     "name": "stderr",
     "output_type": "stream",
     "text": [
      "/Users/ChadMorgan/anaconda/lib/python3.6/site-packages/ipykernel_launcher.py:1: DeprecationWarning: Call to deprecated `most_similar` (Method will be removed in 4.0.0, use self.wv.most_similar() instead).\n",
      "  \"\"\"Entry point for launching an IPython kernel.\n"
     ]
    },
    {
     "data": {
      "text/plain": [
       "[('Sense and Sensibility', 0.6686612367630005),\n",
       " ('Jane Eyre', 0.6627859473228455),\n",
       " ('The Picture of Dorian Gray', 0.6483259201049805),\n",
       " ('Little Women (Little Women, #1)', 0.6320464015007019),\n",
       " ('Manga Classics: Les Misérables', 0.6314364671707153),\n",
       " ('Emma', 0.6196061968803406),\n",
       " ('Anna Karenina', 0.6060368418693542),\n",
       " ('Vanity Fair', 0.6053493618965149),\n",
       " ('Pride and Prejudice', 0.595467209815979),\n",
       " ('The Tenant of Wildfell Hall', 0.5943660736083984)]"
      ]
     },
     "execution_count": 87,
     "metadata": {},
     "output_type": "execute_result"
    }
   ],
   "source": [
    "w2v_model.most_similar('Wuthering Heights')"
   ]
  },
  {
   "cell_type": "code",
   "execution_count": 88,
   "metadata": {},
   "outputs": [
    {
     "name": "stderr",
     "output_type": "stream",
     "text": [
      "/Users/ChadMorgan/anaconda/lib/python3.6/site-packages/ipykernel_launcher.py:1: DeprecationWarning: Call to deprecated `most_similar` (Method will be removed in 4.0.0, use self.wv.most_similar() instead).\n",
      "  \"\"\"Entry point for launching an IPython kernel.\n"
     ]
    },
    {
     "data": {
      "text/plain": [
       "[('Wuthering Heights', 0.5954671502113342),\n",
       " ('Jane Eyre', 0.573065459728241),\n",
       " ('Manga Classics: Les Misérables', 0.48895323276519775),\n",
       " ('Vanity Fair', 0.4879949986934662),\n",
       " ('The Great Gatsby', 0.48110389709472656),\n",
       " ('North and South', 0.48090535402297974),\n",
       " ('Sense & Sensibility (The Austen Project, #1)', 0.47603723406791687),\n",
       " ('Little Women (Little Women, #1)', 0.47198620438575745),\n",
       " ('Lorna Doone', 0.4678046405315399),\n",
       " ('Shirley', 0.4572826623916626)]"
      ]
     },
     "execution_count": 88,
     "metadata": {},
     "output_type": "execute_result"
    }
   ],
   "source": [
    "w2v_model.most_similar('Pride and Prejudice') "
   ]
  },
  {
   "cell_type": "code",
   "execution_count": 90,
   "metadata": {},
   "outputs": [
    {
     "name": "stderr",
     "output_type": "stream",
     "text": [
      "/Users/ChadMorgan/anaconda/lib/python3.6/site-packages/ipykernel_launcher.py:1: DeprecationWarning: Call to deprecated `most_similar` (Method will be removed in 4.0.0, use self.wv.most_similar() instead).\n",
      "  \"\"\"Entry point for launching an IPython kernel.\n"
     ]
    },
    {
     "data": {
      "text/plain": [
       "[('The Monk', 0.7028868198394775),\n",
       " ('Lost Souls', 0.6770556569099426),\n",
       " ('The Haunting of Hill House', 0.6384148001670837),\n",
       " ('Hell House', 0.6359653472900391),\n",
       " ('The Castle of Otranto', 0.6357819437980652),\n",
       " ('Shadows over Innsmouth', 0.6298846006393433),\n",
       " ('The Case of Charles Dexter Ward', 0.6209717392921448),\n",
       " ('Books of Blood: Volumes One to Three (Books of Blood #1-3)',\n",
       "  0.6109519004821777),\n",
       " ('The Call of Cthulhu and Other Weird Stories', 0.6067954897880554),\n",
       " ('Let the Right One In', 0.5981661081314087)]"
      ]
     },
     "execution_count": 90,
     "metadata": {},
     "output_type": "execute_result"
    }
   ],
   "source": [
    "w2v_model.most_similar('Carmilla')"
   ]
  },
  {
   "cell_type": "code",
   "execution_count": 92,
   "metadata": {},
   "outputs": [
    {
     "name": "stderr",
     "output_type": "stream",
     "text": [
      "/Users/ChadMorgan/anaconda/lib/python3.6/site-packages/ipykernel_launcher.py:1: DeprecationWarning: Call to deprecated `most_similar` (Method will be removed in 4.0.0, use self.wv.most_similar() instead).\n",
      "  \"\"\"Entry point for launching an IPython kernel.\n"
     ]
    },
    {
     "data": {
      "text/plain": [
       "[('Mansfield Park', 0.8853601813316345),\n",
       " ('Persuasion', 0.7055795192718506),\n",
       " ('Lady Susan', 0.6169921159744263),\n",
       " ('A Tale of Two Cities / Great Expectations', 0.5910705924034119),\n",
       " (\"A Midsummer Night's Dream\", 0.5796450972557068),\n",
       " ('Emma', 0.5545459389686584),\n",
       " ('Macbeth', 0.5459154844284058),\n",
       " ('Frederica', 0.5424497723579407),\n",
       " ('Daniel Deronda', 0.5401150584220886),\n",
       " ('Cranford', 0.539344847202301)]"
      ]
     },
     "execution_count": 92,
     "metadata": {},
     "output_type": "execute_result"
    }
   ],
   "source": [
    "w2v_model.most_similar('Northanger Abbey') "
   ]
  },
  {
   "cell_type": "code",
   "execution_count": 174,
   "metadata": {},
   "outputs": [
    {
     "name": "stderr",
     "output_type": "stream",
     "text": [
      "/Users/ChadMorgan/anaconda/lib/python3.6/site-packages/ipykernel_launcher.py:1: DeprecationWarning: Call to deprecated `most_similar` (Method will be removed in 4.0.0, use self.wv.most_similar() instead).\n",
      "  \"\"\"Entry point for launching an IPython kernel.\n"
     ]
    },
    {
     "data": {
      "text/plain": [
       "[('Nine Princes in Amber (The Chronicles of Amber #1)', 0.7095693945884705),\n",
       " ('Tigana', 0.6830148100852966),\n",
       " (\"Wizard's First Rule (Sword of Truth, #1)\", 0.6810122132301331),\n",
       " ('Elric of Melniboné (Elric, #1)', 0.679237961769104),\n",
       " ('Tehanu (Earthsea Cycle, #4)', 0.6629476547241211),\n",
       " ('Tales from Earthsea (Earthsea Cycle, #5)', 0.6553428173065186),\n",
       " ('The Magic of Recluce (The Saga of Recluce #1)', 0.6529965400695801),\n",
       " ('The Tombs of Atuan (Earthsea Cycle, #2)', 0.6527249813079834),\n",
       " ('The Earthsea Trilogy', 0.6500858068466187),\n",
       " ('The Dragonbone Chair (Memory, Sorrow, and Thorn, #1)', 0.6474732756614685)]"
      ]
     },
     "execution_count": 174,
     "metadata": {},
     "output_type": "execute_result"
    }
   ],
   "source": [
    "w2v_model.most_similar('A Wizard of Earthsea (Earthsea Cycle, #1)')"
   ]
  },
  {
   "cell_type": "code",
   "execution_count": null,
   "metadata": {
    "collapsed": true
   },
   "outputs": [],
   "source": []
  },
  {
   "cell_type": "code",
   "execution_count": null,
   "metadata": {
    "collapsed": true
   },
   "outputs": [],
   "source": []
  },
  {
   "cell_type": "markdown",
   "metadata": {},
   "source": [
    "### Using the embeddings for user recommendations"
   ]
  },
  {
   "cell_type": "code",
   "execution_count": 132,
   "metadata": {
    "collapsed": true
   },
   "outputs": [],
   "source": [
    "from sklearn.cross_validation import train_test_split\n",
    "from operator import itemgetter"
   ]
  },
  {
   "cell_type": "code",
   "execution_count": 98,
   "metadata": {},
   "outputs": [
    {
     "data": {
      "text/html": [
       "<div>\n",
       "<style>\n",
       "    .dataframe thead tr:only-child th {\n",
       "        text-align: right;\n",
       "    }\n",
       "\n",
       "    .dataframe thead th {\n",
       "        text-align: left;\n",
       "    }\n",
       "\n",
       "    .dataframe tbody tr th {\n",
       "        vertical-align: top;\n",
       "    }\n",
       "</style>\n",
       "<table border=\"1\" class=\"dataframe\">\n",
       "  <thead>\n",
       "    <tr style=\"text-align: right;\">\n",
       "      <th></th>\n",
       "      <th>user_id</th>\n",
       "      <th>book_id</th>\n",
       "      <th>rating</th>\n",
       "      <th>title</th>\n",
       "    </tr>\n",
       "  </thead>\n",
       "  <tbody>\n",
       "    <tr>\n",
       "      <th>0</th>\n",
       "      <td>1</td>\n",
       "      <td>258</td>\n",
       "      <td>5</td>\n",
       "      <td>The Shadow of the Wind (The Cemetery of Forgot...</td>\n",
       "    </tr>\n",
       "    <tr>\n",
       "      <th>1</th>\n",
       "      <td>11</td>\n",
       "      <td>258</td>\n",
       "      <td>3</td>\n",
       "      <td>The Shadow of the Wind (The Cemetery of Forgot...</td>\n",
       "    </tr>\n",
       "    <tr>\n",
       "      <th>2</th>\n",
       "      <td>143</td>\n",
       "      <td>258</td>\n",
       "      <td>4</td>\n",
       "      <td>The Shadow of the Wind (The Cemetery of Forgot...</td>\n",
       "    </tr>\n",
       "    <tr>\n",
       "      <th>3</th>\n",
       "      <td>242</td>\n",
       "      <td>258</td>\n",
       "      <td>5</td>\n",
       "      <td>The Shadow of the Wind (The Cemetery of Forgot...</td>\n",
       "    </tr>\n",
       "    <tr>\n",
       "      <th>4</th>\n",
       "      <td>325</td>\n",
       "      <td>258</td>\n",
       "      <td>4</td>\n",
       "      <td>The Shadow of the Wind (The Cemetery of Forgot...</td>\n",
       "    </tr>\n",
       "  </tbody>\n",
       "</table>\n",
       "</div>"
      ],
      "text/plain": [
       "   user_id  book_id  rating                                              title\n",
       "0        1      258       5  The Shadow of the Wind (The Cemetery of Forgot...\n",
       "1       11      258       3  The Shadow of the Wind (The Cemetery of Forgot...\n",
       "2      143      258       4  The Shadow of the Wind (The Cemetery of Forgot...\n",
       "3      242      258       5  The Shadow of the Wind (The Cemetery of Forgot...\n",
       "4      325      258       4  The Shadow of the Wind (The Cemetery of Forgot..."
      ]
     },
     "execution_count": 98,
     "metadata": {},
     "output_type": "execute_result"
    }
   ],
   "source": [
    "ratings = ratings.merge(books[['book_id','title']],on='book_id')\n",
    "ratings.head()"
   ]
  },
  {
   "cell_type": "code",
   "execution_count": 102,
   "metadata": {},
   "outputs": [
    {
     "name": "stdout",
     "output_type": "stream",
     "text": [
      "53424\n",
      "53424\n"
     ]
    }
   ],
   "source": [
    "print(len(train.drop_duplicates('user_id')))\n",
    "print(len(test.drop_duplicates('user_id')))"
   ]
  },
  {
   "cell_type": "code",
   "execution_count": 167,
   "metadata": {},
   "outputs": [],
   "source": [
    "# class for generating recommendations with the embeddings\n",
    "def w2v_book_recs(model,user_books,neighborhood_size=20,nr_recs=10):\n",
    "    recs_dict={}\n",
    "    for book in user_books:\n",
    "        book_recs = model.wv.most_similar(book,topn=neighborhood_size) \n",
    "        for rec in book_recs:\n",
    "            if rec[0] not in user_books:\n",
    "                if rec in recs_dict.keys():\n",
    "                    recs_dict[rec[0]] += rec[1]\n",
    "                else:\n",
    "                    recs_dict[rec[0]] = rec[1]\n",
    "    recs_list = list(recs_dict.items())\n",
    "    recs_list.sort(key=itemgetter(1),reverse=True)\n",
    "\n",
    "    return recs_list[:nr_recs]"
   ]
  },
  {
   "cell_type": "code",
   "execution_count": 262,
   "metadata": {},
   "outputs": [
    {
     "data": {
      "text/plain": [
       "[('The Silmarillion (Middle-Earth Universe)', 0.7405682802200317),\n",
       " ('The Children of Húrin', 0.7274069786071777),\n",
       " ('Unfinished Tales of Númenor and Middle-Earth', 0.7257495522499084),\n",
       " ('The Lord of the Rings (The Lord of the Rings, #1-3)', 0.6612474918365479),\n",
       " ('The Complete Guide to Middle-Earth', 0.5543145537376404),\n",
       " ('The Hobbit: Graphic Novel', 0.5456080436706543),\n",
       " ('The Farthest Shore (Earthsea Cycle, #3)', 0.5403525829315186),\n",
       " ('The History of the Hobbit, Part One: Mr. Baggins', 0.5347411632537842),\n",
       " ('The Voyage of the Dawn Treader (Chronicles of Narnia, #3)',\n",
       "  0.5200710296630859),\n",
       " ('The Lord of the Rings: The Art of The Fellowship of the Ring',\n",
       "  0.5178254246711731)]"
      ]
     },
     "execution_count": 262,
     "metadata": {},
     "output_type": "execute_result"
    }
   ],
   "source": [
    "# Major works of Tolkien\n",
    "w2v_book_recs(model=w2v_model\n",
    "                 ,user_books=['The Hobbit'\n",
    "                  ,'The Fellowship of the Ring (The Lord of the Rings, #1)'\n",
    "                  ,'The Two Towers (The Lord of the Rings, #2)'\n",
    "                  ,'The Return of the King (The Lord of the Rings, #3)']\n",
    "                ,nr_recs=10,neighborhood_size=5)"
   ]
  },
  {
   "cell_type": "code",
   "execution_count": 263,
   "metadata": {},
   "outputs": [
    {
     "data": {
      "text/plain": [
       "[('Mansfield Park', 0.8853601813316345),\n",
       " ('The Castle of Otranto', 0.7581470608711243),\n",
       " ('Persuasion', 0.7055795192718506),\n",
       " ('The Strange Case of Dr. Jekyll and Mr. Hyde and Other Stories ',\n",
       "  0.6850782632827759),\n",
       " ('Lost Souls', 0.6770556569099426),\n",
       " ('Sense and Sensibility', 0.6686612367630005),\n",
       " ('Jane Eyre', 0.6627859473228455),\n",
       " ('Sentimental Education', 0.6613252758979797),\n",
       " ('The Charterhouse of Parma', 0.6533415913581848),\n",
       " ('The Picture of Dorian Gray', 0.6483259201049805)]"
      ]
     },
     "execution_count": 263,
     "metadata": {},
     "output_type": "execute_result"
    }
   ],
   "source": [
    "# Gothic novels\n",
    "w2v_book_recs(w2v_model\n",
    "                 ,['Dracula'\n",
    "                  ,'Carmilla'\n",
    "                  ,'Frankenstein'\n",
    "                  ,'Northanger Abbey'\n",
    "                  ,'Wuthering Heights'\n",
    "                  ,'The Monk']\n",
    "                ,neighborhood_size=5\n",
    "              ,nr_recs=10\n",
    "            )"
   ]
  },
  {
   "cell_type": "code",
   "execution_count": null,
   "metadata": {
    "collapsed": true
   },
   "outputs": [],
   "source": []
  },
  {
   "cell_type": "code",
   "execution_count": 232,
   "metadata": {},
   "outputs": [],
   "source": [
    "from numpy.random import choice"
   ]
  },
  {
   "cell_type": "code",
   "execution_count": 272,
   "metadata": {},
   "outputs": [],
   "source": [
    "user_books = user_ratings_dict[251]\n",
    "holdout_set = choice(user_ratings_dict[1],size=int(np.ceil(0.2*len(user_books))),replace=False)\n",
    "train_set = [x for x in user_books if x not in holdout_set]"
   ]
  },
  {
   "cell_type": "code",
   "execution_count": 273,
   "metadata": {},
   "outputs": [
    {
     "data": {
      "text/plain": [
       "array(['Crime and Punishment',\n",
       "       'The Chronicles of Narnia (Chronicles of Narnia, #1-7)',\n",
       "       'A Prayer for Owen Meany', 'Gone with the Wind', 'Emma',\n",
       "       'Three Junes', 'Cry to Heaven', \"Ender's Game (Ender's Saga, #1)\",\n",
       "       'Unaccustomed Earth', 'The Poisonwood Bible',\n",
       "       'Balzac and the Little Chinese Seamstress', 'The Glass Castle',\n",
       "       'Sense and Sensibility', 'War and Peace',\n",
       "       'A Man Without a Country',\n",
       "       'World Without End (The Kingsbridge Series, #2)',\n",
       "       \"She's Come Undone\", 'Les Misérables',\n",
       "       'Snow Flower and the Secret Fan', 'The Giving Tree',\n",
       "       'The Scarlet Letter', 'West with the Night', 'Life of Pi',\n",
       "       \"Brunelleschi's Dome: How a Renaissance Genius Reinvented Architecture\",\n",
       "       'The Art of Fielding', 'Little Bee', 'Mystic River', 'The Idiot',\n",
       "       'The Paris Wife'], dtype='<U78')"
      ]
     },
     "execution_count": 273,
     "metadata": {},
     "output_type": "execute_result"
    }
   ],
   "source": [
    "holdout_set"
   ]
  },
  {
   "cell_type": "code",
   "execution_count": 274,
   "metadata": {},
   "outputs": [
    {
     "data": {
      "text/plain": [
       "[('Second Foundation (Foundation #3)', 0.9196539521217346),\n",
       " ('Drawing from Memory', 0.8915365934371948),\n",
       " ('Diamonds Are Forever (James Bond, #4)', 0.8826935291290283),\n",
       " ('Amerika', 0.8703593611717224),\n",
       " (\"There's Treasure Everywhere: A Calvin and Hobbes Collection\",\n",
       "  0.868524432182312),\n",
       " ('Moonraker (James Bond, #3)', 0.8672071695327759),\n",
       " ('Brain Droppings', 0.8661783337593079),\n",
       " ('The Calvin and Hobbes Tenth Anniversary Book', 0.8612014651298523),\n",
       " ('The Magic Mirror of M.C. Escher', 0.8573482036590576),\n",
       " ('Live and Let Die (James Bond, #2)', 0.8561528921127319),\n",
       " ('Andy Goldsworthy: A Collaboration with Nature', 0.853991687297821),\n",
       " ('The Calvin and Hobbes Lazy Sunday Book', 0.8527666330337524),\n",
       " ('An Illustrated Life: Drawing Inspiration From The Private Sketchbooks Of Artists, Illustrators And Designers',\n",
       "  0.8518355488777161),\n",
       " ('The Revenge of the Baby-Sat', 0.8515295386314392),\n",
       " ('The Lion and the Mouse', 0.8507595658302307),\n",
       " ('Snow Falling on Cedars', 0.8489660024642944),\n",
       " ('The Last Nude', 0.8486347794532776),\n",
       " ('Faeries', 0.8470796942710876),\n",
       " ('Dali: The Paintings', 0.8459808230400085),\n",
       " ('Awakening the Buddha Within: Tibetan Wisdom for the Western World',\n",
       "  0.8440707921981812),\n",
       " ('A Sick Day for Amos McGee', 0.8437002897262573),\n",
       " ('The Way of Zen', 0.8435846567153931),\n",
       " ('The Shock of the New', 0.8415691256523132),\n",
       " ('The Lives of the Artists', 0.8392465114593506),\n",
       " ('The First World War', 0.8388772010803223),\n",
       " (\"The King's Agent\", 0.8385618329048157),\n",
       " ('Cycle of the Werewolf', 0.838513970375061),\n",
       " ('The Fall of Berlin 1945', 0.8378336429595947),\n",
       " ('Seven Days in the Art World', 0.8367241024971008),\n",
       " ('Good Faeries/Bad Faeries', 0.8362264633178711),\n",
       " ('Journey to the End of the Night', 0.8340187668800354),\n",
       " ('Gustav Klimt: 1862-1918', 0.8329061269760132),\n",
       " ('A Bridge Too Far', 0.8328746557235718),\n",
       " (\"Kitten's First Full Moon\", 0.8314871191978455),\n",
       " ('Guns, Germs, and Steel: The Fates of Human Societies', 0.8308456540107727),\n",
       " ('The Man Who Walked Between the Towers', 0.8285940289497375),\n",
       " (\"On Her Majesty's Secret Service (James Bond, #11)\", 0.8279921412467957),\n",
       " ('Vincent Van Gogh: The Complete Paintings', 0.8277996778488159),\n",
       " ('Stand on Zanzibar', 0.8277729749679565),\n",
       " ('When Will Jesus Bring the Pork Chops?', 0.8269892334938049),\n",
       " ('The Power of Art', 0.8268189430236816),\n",
       " ('Snowflake Bentley', 0.8261148929595947),\n",
       " ('Black Hole', 0.8223559260368347),\n",
       " ('Extra Yarn (E. B. White Read-Aloud Award. Picture Books)',\n",
       "  0.8222618103027344),\n",
       " ('Epileptic', 0.8201183080673218),\n",
       " ('Collapse: How Societies Choose to Fail or Succeed', 0.8174771070480347),\n",
       " ('The Plague', 0.8164855241775513),\n",
       " (\"Old Man's War (Old Man's War, #1)\", 0.8159224390983582),\n",
       " (\"Foundation's Edge (Foundation #4)\", 0.8149449825286865),\n",
       " ('One Past Midnight: The Langoliers', 0.811667799949646)]"
      ]
     },
     "execution_count": 274,
     "metadata": {},
     "output_type": "execute_result"
    }
   ],
   "source": [
    "w2v_book_recs(w2v_model,train_set,neighborhood_size=5,nr_recs=50)"
   ]
  },
  {
   "cell_type": "code",
   "execution_count": null,
   "metadata": {
    "collapsed": true
   },
   "outputs": [],
   "source": []
  }
 ],
 "metadata": {
  "kernelspec": {
   "display_name": "Python 3",
   "language": "python",
   "name": "python3"
  },
  "language_info": {
   "codemirror_mode": {
    "name": "ipython",
    "version": 3
   },
   "file_extension": ".py",
   "mimetype": "text/x-python",
   "name": "python",
   "nbconvert_exporter": "python",
   "pygments_lexer": "ipython3",
   "version": "3.6.1"
  }
 },
 "nbformat": 4,
 "nbformat_minor": 2
}
