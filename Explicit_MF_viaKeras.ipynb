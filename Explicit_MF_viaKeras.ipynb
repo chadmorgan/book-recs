{
 "cells": [
  {
   "cell_type": "code",
   "execution_count": 1,
   "metadata": {},
   "outputs": [],
   "source": [
    "import pandas as pd\n",
    "import numpy as np\n",
    "from matplotlib import pyplot as plt"
   ]
  },
  {
   "cell_type": "code",
   "execution_count": 2,
   "metadata": {},
   "outputs": [],
   "source": [
    "from numpy.linalg import norm\n",
    "from numpy import dot"
   ]
  },
  {
   "cell_type": "code",
   "execution_count": 3,
   "metadata": {},
   "outputs": [],
   "source": [
    "from sklearn.preprocessing import StandardScaler\n",
    "from sklearn.model_selection import train_test_split"
   ]
  },
  {
   "cell_type": "code",
   "execution_count": 4,
   "metadata": {},
   "outputs": [
    {
     "name": "stderr",
     "output_type": "stream",
     "text": [
      "Using TensorFlow backend.\n"
     ]
    }
   ],
   "source": [
    "from keras.layers import Dense, Input, Embedding, Flatten, Dropout, Dot, Reshape\n",
    "from keras.models import Model, Sequential\n",
    "from keras import regularizers\n",
    "from sklearn.utils import shuffle"
   ]
  },
  {
   "cell_type": "markdown",
   "metadata": {},
   "source": [
    "### Ratings data prep"
   ]
  },
  {
   "cell_type": "code",
   "execution_count": 5,
   "metadata": {},
   "outputs": [
    {
     "data": {
      "text/html": [
       "<div>\n",
       "<style scoped>\n",
       "    .dataframe tbody tr th:only-of-type {\n",
       "        vertical-align: middle;\n",
       "    }\n",
       "\n",
       "    .dataframe tbody tr th {\n",
       "        vertical-align: top;\n",
       "    }\n",
       "\n",
       "    .dataframe thead th {\n",
       "        text-align: right;\n",
       "    }\n",
       "</style>\n",
       "<table border=\"1\" class=\"dataframe\">\n",
       "  <thead>\n",
       "    <tr style=\"text-align: right;\">\n",
       "      <th></th>\n",
       "      <th>user_id</th>\n",
       "      <th>book_id</th>\n",
       "      <th>rating</th>\n",
       "    </tr>\n",
       "  </thead>\n",
       "  <tbody>\n",
       "    <tr>\n",
       "      <th>0</th>\n",
       "      <td>1</td>\n",
       "      <td>258</td>\n",
       "      <td>5</td>\n",
       "    </tr>\n",
       "    <tr>\n",
       "      <th>1</th>\n",
       "      <td>2</td>\n",
       "      <td>4081</td>\n",
       "      <td>4</td>\n",
       "    </tr>\n",
       "    <tr>\n",
       "      <th>2</th>\n",
       "      <td>2</td>\n",
       "      <td>260</td>\n",
       "      <td>5</td>\n",
       "    </tr>\n",
       "    <tr>\n",
       "      <th>3</th>\n",
       "      <td>2</td>\n",
       "      <td>9296</td>\n",
       "      <td>5</td>\n",
       "    </tr>\n",
       "    <tr>\n",
       "      <th>4</th>\n",
       "      <td>2</td>\n",
       "      <td>2318</td>\n",
       "      <td>3</td>\n",
       "    </tr>\n",
       "  </tbody>\n",
       "</table>\n",
       "</div>"
      ],
      "text/plain": [
       "   user_id  book_id  rating\n",
       "0        1      258       5\n",
       "1        2     4081       4\n",
       "2        2      260       5\n",
       "3        2     9296       5\n",
       "4        2     2318       3"
      ]
     },
     "execution_count": 5,
     "metadata": {},
     "output_type": "execute_result"
    }
   ],
   "source": [
    "ratings = pd.read_csv('goodbooks-10k-master/ratings.csv')\n",
    "ratings.head()"
   ]
  },
  {
   "cell_type": "code",
   "execution_count": 6,
   "metadata": {},
   "outputs": [
    {
     "data": {
      "text/plain": [
       "scaled_rating\n",
       "0.00     124195\n",
       "0.25     359257\n",
       "0.50    1370916\n",
       "0.75    2139018\n",
       "1.00    1983093\n",
       "Name: rating, dtype: int64"
      ]
     },
     "execution_count": 6,
     "metadata": {},
     "output_type": "execute_result"
    }
   ],
   "source": [
    "ratings['scaled_rating'] = (ratings['rating'] - 1) / 4\n",
    "ratings.groupby('scaled_rating')['rating'].count()"
   ]
  },
  {
   "cell_type": "code",
   "execution_count": 7,
   "metadata": {},
   "outputs": [
    {
     "data": {
      "image/png": "[encoded data removed]",
      "text/plain": [
       "<Figure size 432x288 with 1 Axes>"
      ]
     },
     "metadata": {
      "needs_background": "light"
     },
     "output_type": "display_data"
    }
   ],
   "source": [
    "plt.hist(ratings['scaled_rating'],5)\n",
    "plt.show()"
   ]
  },
  {
   "cell_type": "code",
   "execution_count": 8,
   "metadata": {},
   "outputs": [
    {
     "data": {
      "text/plain": [
       "(4781183, 4)"
      ]
     },
     "execution_count": 8,
     "metadata": {},
     "output_type": "execute_result"
    }
   ],
   "source": [
    "train,test = train_test_split(ratings,test_size=0.2)\n",
    "train.shape"
   ]
  },
  {
   "cell_type": "code",
   "execution_count": 9,
   "metadata": {},
   "outputs": [],
   "source": [
    "train_books = np.array(train['book_id'])\n",
    "train_users = np.array(train['user_id'])\n",
    "train_ratings = np.array(train['scaled_rating'])"
   ]
  },
  {
   "cell_type": "code",
   "execution_count": 10,
   "metadata": {},
   "outputs": [],
   "source": [
    "train_books,train_users,train_ratings = shuffle([train_books,train_users,train_ratings])"
   ]
  },
  {
   "cell_type": "markdown",
   "metadata": {},
   "source": [
    "### Define explicit Matrix Factorization model with Keras"
   ]
  },
  {
   "cell_type": "code",
   "execution_count": 49,
   "metadata": {},
   "outputs": [
    {
     "data": {
      "text/plain": [
       "10000"
      ]
     },
     "execution_count": 49,
     "metadata": {},
     "output_type": "execute_result"
    }
   ],
   "source": [
    "nr_books = max(ratings['book_id'])\n",
    "nr_books"
   ]
  },
  {
   "cell_type": "code",
   "execution_count": 50,
   "metadata": {},
   "outputs": [
    {
     "data": {
      "text/plain": [
       "53424"
      ]
     },
     "execution_count": 50,
     "metadata": {},
     "output_type": "execute_result"
    }
   ],
   "source": [
    "nr_users = max(ratings['user_id'])\n",
    "nr_users"
   ]
  },
  {
   "cell_type": "code",
   "execution_count": 51,
   "metadata": {},
   "outputs": [],
   "source": [
    "EMBEDDING_DIM = 50"
   ]
  },
  {
   "cell_type": "code",
   "execution_count": 52,
   "metadata": {},
   "outputs": [],
   "source": [
    "user_input = Input(shape=(1,),dtype='int32', name=\"UserInput\")"
   ]
  },
  {
   "cell_type": "code",
   "execution_count": 53,
   "metadata": {},
   "outputs": [],
   "source": [
    "user_embedding = Embedding(input_dim=nr_users+1,\n",
    "                               output_dim=EMBEDDING_DIM,\n",
    "                               input_length=1,\n",
    "                               trainable=True,\n",
    "#                               embeddings_regularizer=regularizers.l2(0.0001),\n",
    "                               name=\"UserEmbedding\")(user_input)"
   ]
  },
  {
   "cell_type": "code",
   "execution_count": 54,
   "metadata": {},
   "outputs": [
    {
     "data": {
      "text/plain": [
       "TensorShape([Dimension(None), Dimension(50)])"
      ]
     },
     "execution_count": 54,
     "metadata": {},
     "output_type": "execute_result"
    }
   ],
   "source": [
    "user_embedding = Reshape(target_shape=(EMBEDDING_DIM,))(user_embedding)\n",
    "user_embedding.shape"
   ]
  },
  {
   "cell_type": "code",
   "execution_count": 55,
   "metadata": {},
   "outputs": [],
   "source": [
    "book_input = Input(shape=(1,),dtype='int32', name=\"BookInput\")"
   ]
  },
  {
   "cell_type": "code",
   "execution_count": 56,
   "metadata": {},
   "outputs": [],
   "source": [
    "book_embedding = Embedding(input_dim=nr_books+1,\n",
    "                               output_dim=EMBEDDING_DIM,\n",
    "                               input_length=1,\n",
    "                               trainable=True,\n",
    "#                               embeddings_regularizer=regularizers.l2(0.0001), \n",
    "                               name=\"BookEmbedding\")(book_input)"
   ]
  },
  {
   "cell_type": "code",
   "execution_count": 57,
   "metadata": {},
   "outputs": [
    {
     "data": {
      "text/plain": [
       "TensorShape([Dimension(None), Dimension(50)])"
      ]
     },
     "execution_count": 57,
     "metadata": {},
     "output_type": "execute_result"
    }
   ],
   "source": [
    "book_embedding = Reshape(target_shape=(EMBEDDING_DIM,))(book_embedding)\n",
    "book_embedding.shape"
   ]
  },
  {
   "cell_type": "code",
   "execution_count": 58,
   "metadata": {},
   "outputs": [
    {
     "data": {
      "text/plain": [
       "TensorShape([Dimension(None), Dimension(1)])"
      ]
     },
     "execution_count": 58,
     "metadata": {},
     "output_type": "execute_result"
    }
   ],
   "source": [
    "dot_prod = Dot(axes=1,normalize=False)([book_embedding,user_embedding])\n",
    "dot_prod.shape"
   ]
  },
  {
   "cell_type": "code",
   "execution_count": 59,
   "metadata": {},
   "outputs": [],
   "source": [
    "embedding_model0 = Model(inputs=[book_input,user_input], outputs=[dot_prod])"
   ]
  },
  {
   "cell_type": "code",
   "execution_count": 60,
   "metadata": {},
   "outputs": [],
   "source": [
    "embedding_model0.compile(loss='mse'\n",
    "                         , optimizer='adam'\n",
    "                         ,metrics=['mean_squared_error','mean_absolute_error'])"
   ]
  },
  {
   "cell_type": "code",
   "execution_count": 61,
   "metadata": {},
   "outputs": [
    {
     "name": "stdout",
     "output_type": "stream",
     "text": [
      "__________________________________________________________________________________________________\n",
      "Layer (type)                    Output Shape         Param #     Connected to                     \n",
      "==================================================================================================\n",
      "BookInput (InputLayer)          (None, 1)            0                                            \n",
      "__________________________________________________________________________________________________\n",
      "UserInput (InputLayer)          (None, 1)            0                                            \n",
      "__________________________________________________________________________________________________\n",
      "BookEmbedding (Embedding)       (None, 1, 50)        500050      BookInput[0][0]                  \n",
      "__________________________________________________________________________________________________\n",
      "UserEmbedding (Embedding)       (None, 1, 50)        2671250     UserInput[0][0]                  \n",
      "__________________________________________________________________________________________________\n",
      "reshape_6 (Reshape)             (None, 50)           0           BookEmbedding[0][0]              \n",
      "__________________________________________________________________________________________________\n",
      "reshape_5 (Reshape)             (None, 50)           0           UserEmbedding[0][0]              \n",
      "__________________________________________________________________________________________________\n",
      "dot_3 (Dot)                     (None, 1)            0           reshape_6[0][0]                  \n",
      "                                                                 reshape_5[0][0]                  \n",
      "==================================================================================================\n",
      "Total params: 3,171,300\n",
      "Trainable params: 3,171,300\n",
      "Non-trainable params: 0\n",
      "__________________________________________________________________________________________________\n"
     ]
    }
   ],
   "source": [
    "embedding_model0.summary()"
   ]
  },
  {
   "cell_type": "markdown",
   "metadata": {},
   "source": [
    "### Train model"
   ]
  },
  {
   "cell_type": "code",
   "execution_count": 62,
   "metadata": {},
   "outputs": [],
   "source": [
    "import time\n",
    "from keras.callbacks import ModelCheckpoint\n",
    "save_path = \"./models\"\n",
    "mytime = time.strftime(\"%Y_%m_%d_%H_%M\")\n",
    "modname = 'explicit_mf_50' + mytime \n",
    "thename = save_path + '/' + modname + '.h5'\n",
    "mcheck = ModelCheckpoint(thename , monitor='val_loss', save_best_only=True)"
   ]
  },
  {
   "cell_type": "code",
   "execution_count": 63,
   "metadata": {},
   "outputs": [
    {
     "name": "stdout",
     "output_type": "stream",
     "text": [
      "Train on 4781183 samples, validate on 1195296 samples\n",
      "Epoch 1/3\n",
      "4781183/4781183 [==============================] - 891s 186us/step - loss: 0.1159 - mean_squared_error: 0.1159 - mean_absolute_error: 0.2495 - val_loss: 0.0514 - val_mean_squared_error: 0.0514 - val_mean_absolute_error: 0.1773\n",
      "Epoch 2/3\n",
      "4781183/4781183 [==============================] - 891s 186us/step - loss: 0.0446 - mean_squared_error: 0.0446 - mean_absolute_error: 0.1643 - val_loss: 0.0498 - val_mean_squared_error: 0.0498 - val_mean_absolute_error: 0.1735\n",
      "Epoch 3/3\n",
      "4781183/4781183 [==============================] - 965s 202us/step - loss: 0.0370 - mean_squared_error: 0.0370 - mean_absolute_error: 0.1488 - val_loss: 0.0517 - val_mean_squared_error: 0.0517 - val_mean_absolute_error: 0.1760\n"
     ]
    }
   ],
   "source": [
    "model0_hist = embedding_model0.fit([train['book_id'],train['user_id']], train['scaled_rating'],\n",
    "    epochs=3, \n",
    "    batch_size=256,\n",
    "    validation_data=([test['book_id'],test['user_id']], test['scaled_rating']),\n",
    "    callbacks=[mcheck]\n",
    ")"
   ]
  },
  {
   "cell_type": "code",
   "execution_count": null,
   "metadata": {
    "collapsed": true
   },
   "outputs": [],
   "source": [
    "# Train on 597647 samples, validate on 5378832 samples\n",
    "# Epoch 1/1\n",
    "# 597647/597647 [==============================] - 245s - loss: 0.6358 - mean_squared_error: 0.5943 - val_loss: 0.6350 - val_mean_squared_error: 0.5942"
   ]
  },
  {
   "cell_type": "code",
   "execution_count": 64,
   "metadata": {},
   "outputs": [
    {
     "data": {
      "text/plain": [
       "<keras.callbacks.History at 0x1aa04ae7f0>"
      ]
     },
     "execution_count": 64,
     "metadata": {},
     "output_type": "execute_result"
    }
   ],
   "source": [
    "model0_hist"
   ]
  },
  {
   "cell_type": "code",
   "execution_count": 70,
   "metadata": {},
   "outputs": [
    {
     "data": {
      "text/plain": [
       "[<matplotlib.lines.Line2D at 0x1a48ac5908>]"
      ]
     },
     "execution_count": 70,
     "metadata": {},
     "output_type": "execute_result"
    },
    {
     "data": {
      "image/png": "[encoded data removed]",
      "text/plain": [
       "<Figure size 432x288 with 1 Axes>"
      ]
     },
     "metadata": {
      "needs_background": "light"
     },
     "output_type": "display_data"
    }
   ],
   "source": [
    "plt.plot(model0_hist.history['loss'])"
   ]
  },
  {
   "cell_type": "code",
   "execution_count": 65,
   "metadata": {},
   "outputs": [],
   "source": [
    "embedding_model0.save('models/explicit_mf_keras_50dim')"
   ]
  },
  {
   "cell_type": "markdown",
   "metadata": {},
   "source": [
    "### Check model predictions"
   ]
  },
  {
   "cell_type": "code",
   "execution_count": 66,
   "metadata": {},
   "outputs": [],
   "source": [
    "test_predict = embedding_model0.predict([test['book_id'],test['user_id']])\n",
    "#embedding_model0.predict([test['book_id'][110:120],test['user_id'][110:120]])"
   ]
  },
  {
   "cell_type": "code",
   "execution_count": 82,
   "metadata": {},
   "outputs": [
    {
     "data": {
      "image/png": "[encoded data removed]",
      "text/plain": [
       "<Figure size 432x288 with 1 Axes>"
      ]
     },
     "metadata": {
      "needs_background": "light"
     },
     "output_type": "display_data"
    }
   ],
   "source": [
    "plt.hist(test_predict[test['rating']==1],30,label=\"rating=1\",alpha=0.2)\n",
    "plt.hist(test_predict[test['rating']==2],30,label=\"rating=2\",alpha=0.2)\n",
    "plt.hist(test_predict[test['rating']==3],30,label=\"rating=3\",alpha=0.2)\n",
    "plt.hist(test_predict[test['rating']==4],30,label=\"rating=4\",alpha=0.2)\n",
    "plt.hist(test_predict[test['rating']==5],30,label=\"rating=5\",alpha=0.2)\n",
    "plt.legend()\n",
    "plt.show()"
   ]
  },
  {
   "cell_type": "code",
   "execution_count": null,
   "metadata": {},
   "outputs": [],
   "source": []
  },
  {
   "cell_type": "markdown",
   "metadata": {},
   "source": [
    "### Examine book embeddings"
   ]
  },
  {
   "cell_type": "code",
   "execution_count": 71,
   "metadata": {},
   "outputs": [],
   "source": [
    "book_vectors = embedding_model0.layers[2].get_weights()[0]"
   ]
  },
  {
   "cell_type": "code",
   "execution_count": 92,
   "metadata": {},
   "outputs": [],
   "source": [
    "np.save('models/mf_book_vectors.npy',book_vectors)"
   ]
  },
  {
   "cell_type": "code",
   "execution_count": 72,
   "metadata": {},
   "outputs": [],
   "source": [
    "def cosine_sim(a,b):\n",
    "    return dot(a,b) / (norm(a)*norm(b))"
   ]
  },
  {
   "cell_type": "code",
   "execution_count": 73,
   "metadata": {},
   "outputs": [
    {
     "data": {
      "text/html": [
       "<div>\n",
       "<style scoped>\n",
       "    .dataframe tbody tr th:only-of-type {\n",
       "        vertical-align: middle;\n",
       "    }\n",
       "\n",
       "    .dataframe tbody tr th {\n",
       "        vertical-align: top;\n",
       "    }\n",
       "\n",
       "    .dataframe thead th {\n",
       "        text-align: right;\n",
       "    }\n",
       "</style>\n",
       "<table border=\"1\" class=\"dataframe\">\n",
       "  <thead>\n",
       "    <tr style=\"text-align: right;\">\n",
       "      <th></th>\n",
       "      <th>book_id</th>\n",
       "      <th>goodreads_book_id</th>\n",
       "      <th>best_book_id</th>\n",
       "      <th>work_id</th>\n",
       "      <th>books_count</th>\n",
       "      <th>isbn</th>\n",
       "      <th>isbn13</th>\n",
       "      <th>authors</th>\n",
       "      <th>original_publication_year</th>\n",
       "      <th>original_title</th>\n",
       "      <th>...</th>\n",
       "      <th>ratings_count</th>\n",
       "      <th>work_ratings_count</th>\n",
       "      <th>work_text_reviews_count</th>\n",
       "      <th>ratings_1</th>\n",
       "      <th>ratings_2</th>\n",
       "      <th>ratings_3</th>\n",
       "      <th>ratings_4</th>\n",
       "      <th>ratings_5</th>\n",
       "      <th>image_url</th>\n",
       "      <th>small_image_url</th>\n",
       "    </tr>\n",
       "  </thead>\n",
       "  <tbody>\n",
       "    <tr>\n",
       "      <th>0</th>\n",
       "      <td>1</td>\n",
       "      <td>2767052</td>\n",
       "      <td>2767052</td>\n",
       "      <td>2792775</td>\n",
       "      <td>272</td>\n",
       "      <td>439023483</td>\n",
       "      <td>9.780439e+12</td>\n",
       "      <td>Suzanne Collins</td>\n",
       "      <td>2008.0</td>\n",
       "      <td>The Hunger Games</td>\n",
       "      <td>...</td>\n",
       "      <td>4780653</td>\n",
       "      <td>4942365</td>\n",
       "      <td>155254</td>\n",
       "      <td>66715</td>\n",
       "      <td>127936</td>\n",
       "      <td>560092</td>\n",
       "      <td>1481305</td>\n",
       "      <td>2706317</td>\n",
       "      <td>https://images.gr-assets.com/books/1447303603m...</td>\n",
       "      <td>https://images.gr-assets.com/books/1447303603s...</td>\n",
       "    </tr>\n",
       "    <tr>\n",
       "      <th>1</th>\n",
       "      <td>2</td>\n",
       "      <td>3</td>\n",
       "      <td>3</td>\n",
       "      <td>4640799</td>\n",
       "      <td>491</td>\n",
       "      <td>439554934</td>\n",
       "      <td>9.780440e+12</td>\n",
       "      <td>J.K. Rowling, Mary GrandPré</td>\n",
       "      <td>1997.0</td>\n",
       "      <td>Harry Potter and the Philosopher's Stone</td>\n",
       "      <td>...</td>\n",
       "      <td>4602479</td>\n",
       "      <td>4800065</td>\n",
       "      <td>75867</td>\n",
       "      <td>75504</td>\n",
       "      <td>101676</td>\n",
       "      <td>455024</td>\n",
       "      <td>1156318</td>\n",
       "      <td>3011543</td>\n",
       "      <td>https://images.gr-assets.com/books/1474154022m...</td>\n",
       "      <td>https://images.gr-assets.com/books/1474154022s...</td>\n",
       "    </tr>\n",
       "    <tr>\n",
       "      <th>2</th>\n",
       "      <td>3</td>\n",
       "      <td>41865</td>\n",
       "      <td>41865</td>\n",
       "      <td>3212258</td>\n",
       "      <td>226</td>\n",
       "      <td>316015849</td>\n",
       "      <td>9.780316e+12</td>\n",
       "      <td>Stephenie Meyer</td>\n",
       "      <td>2005.0</td>\n",
       "      <td>Twilight</td>\n",
       "      <td>...</td>\n",
       "      <td>3866839</td>\n",
       "      <td>3916824</td>\n",
       "      <td>95009</td>\n",
       "      <td>456191</td>\n",
       "      <td>436802</td>\n",
       "      <td>793319</td>\n",
       "      <td>875073</td>\n",
       "      <td>1355439</td>\n",
       "      <td>https://images.gr-assets.com/books/1361039443m...</td>\n",
       "      <td>https://images.gr-assets.com/books/1361039443s...</td>\n",
       "    </tr>\n",
       "    <tr>\n",
       "      <th>3</th>\n",
       "      <td>4</td>\n",
       "      <td>2657</td>\n",
       "      <td>2657</td>\n",
       "      <td>3275794</td>\n",
       "      <td>487</td>\n",
       "      <td>61120081</td>\n",
       "      <td>9.780061e+12</td>\n",
       "      <td>Harper Lee</td>\n",
       "      <td>1960.0</td>\n",
       "      <td>To Kill a Mockingbird</td>\n",
       "      <td>...</td>\n",
       "      <td>3198671</td>\n",
       "      <td>3340896</td>\n",
       "      <td>72586</td>\n",
       "      <td>60427</td>\n",
       "      <td>117415</td>\n",
       "      <td>446835</td>\n",
       "      <td>1001952</td>\n",
       "      <td>1714267</td>\n",
       "      <td>https://images.gr-assets.com/books/1361975680m...</td>\n",
       "      <td>https://images.gr-assets.com/books/1361975680s...</td>\n",
       "    </tr>\n",
       "    <tr>\n",
       "      <th>4</th>\n",
       "      <td>5</td>\n",
       "      <td>4671</td>\n",
       "      <td>4671</td>\n",
       "      <td>245494</td>\n",
       "      <td>1356</td>\n",
       "      <td>743273567</td>\n",
       "      <td>9.780743e+12</td>\n",
       "      <td>F. Scott Fitzgerald</td>\n",
       "      <td>1925.0</td>\n",
       "      <td>The Great Gatsby</td>\n",
       "      <td>...</td>\n",
       "      <td>2683664</td>\n",
       "      <td>2773745</td>\n",
       "      <td>51992</td>\n",
       "      <td>86236</td>\n",
       "      <td>197621</td>\n",
       "      <td>606158</td>\n",
       "      <td>936012</td>\n",
       "      <td>947718</td>\n",
       "      <td>https://images.gr-assets.com/books/1490528560m...</td>\n",
       "      <td>https://images.gr-assets.com/books/1490528560s...</td>\n",
       "    </tr>\n",
       "    <tr>\n",
       "      <th>5</th>\n",
       "      <td>6</td>\n",
       "      <td>11870085</td>\n",
       "      <td>11870085</td>\n",
       "      <td>16827462</td>\n",
       "      <td>226</td>\n",
       "      <td>525478817</td>\n",
       "      <td>9.780525e+12</td>\n",
       "      <td>John Green</td>\n",
       "      <td>2012.0</td>\n",
       "      <td>The Fault in Our Stars</td>\n",
       "      <td>...</td>\n",
       "      <td>2346404</td>\n",
       "      <td>2478609</td>\n",
       "      <td>140739</td>\n",
       "      <td>47994</td>\n",
       "      <td>92723</td>\n",
       "      <td>327550</td>\n",
       "      <td>698471</td>\n",
       "      <td>1311871</td>\n",
       "      <td>https://images.gr-assets.com/books/1360206420m...</td>\n",
       "      <td>https://images.gr-assets.com/books/1360206420s...</td>\n",
       "    </tr>\n",
       "    <tr>\n",
       "      <th>6</th>\n",
       "      <td>7</td>\n",
       "      <td>5907</td>\n",
       "      <td>5907</td>\n",
       "      <td>1540236</td>\n",
       "      <td>969</td>\n",
       "      <td>618260307</td>\n",
       "      <td>9.780618e+12</td>\n",
       "      <td>J.R.R. Tolkien</td>\n",
       "      <td>1937.0</td>\n",
       "      <td>The Hobbit or There and Back Again</td>\n",
       "      <td>...</td>\n",
       "      <td>2071616</td>\n",
       "      <td>2196809</td>\n",
       "      <td>37653</td>\n",
       "      <td>46023</td>\n",
       "      <td>76784</td>\n",
       "      <td>288649</td>\n",
       "      <td>665635</td>\n",
       "      <td>1119718</td>\n",
       "      <td>https://images.gr-assets.com/books/1372847500m...</td>\n",
       "      <td>https://images.gr-assets.com/books/1372847500s...</td>\n",
       "    </tr>\n",
       "    <tr>\n",
       "      <th>7</th>\n",
       "      <td>8</td>\n",
       "      <td>5107</td>\n",
       "      <td>5107</td>\n",
       "      <td>3036731</td>\n",
       "      <td>360</td>\n",
       "      <td>316769177</td>\n",
       "      <td>9.780317e+12</td>\n",
       "      <td>J.D. Salinger</td>\n",
       "      <td>1951.0</td>\n",
       "      <td>The Catcher in the Rye</td>\n",
       "      <td>...</td>\n",
       "      <td>2044241</td>\n",
       "      <td>2120637</td>\n",
       "      <td>44920</td>\n",
       "      <td>109383</td>\n",
       "      <td>185520</td>\n",
       "      <td>455042</td>\n",
       "      <td>661516</td>\n",
       "      <td>709176</td>\n",
       "      <td>https://images.gr-assets.com/books/1398034300m...</td>\n",
       "      <td>https://images.gr-assets.com/books/1398034300s...</td>\n",
       "    </tr>\n",
       "    <tr>\n",
       "      <th>8</th>\n",
       "      <td>9</td>\n",
       "      <td>960</td>\n",
       "      <td>960</td>\n",
       "      <td>3338963</td>\n",
       "      <td>311</td>\n",
       "      <td>1416524797</td>\n",
       "      <td>9.781417e+12</td>\n",
       "      <td>Dan Brown</td>\n",
       "      <td>2000.0</td>\n",
       "      <td>Angels &amp; Demons</td>\n",
       "      <td>...</td>\n",
       "      <td>2001311</td>\n",
       "      <td>2078754</td>\n",
       "      <td>25112</td>\n",
       "      <td>77841</td>\n",
       "      <td>145740</td>\n",
       "      <td>458429</td>\n",
       "      <td>716569</td>\n",
       "      <td>680175</td>\n",
       "      <td>https://images.gr-assets.com/books/1303390735m...</td>\n",
       "      <td>https://images.gr-assets.com/books/1303390735s...</td>\n",
       "    </tr>\n",
       "    <tr>\n",
       "      <th>9</th>\n",
       "      <td>10</td>\n",
       "      <td>1885</td>\n",
       "      <td>1885</td>\n",
       "      <td>3060926</td>\n",
       "      <td>3455</td>\n",
       "      <td>679783261</td>\n",
       "      <td>9.780680e+12</td>\n",
       "      <td>Jane Austen</td>\n",
       "      <td>1813.0</td>\n",
       "      <td>Pride and Prejudice</td>\n",
       "      <td>...</td>\n",
       "      <td>2035490</td>\n",
       "      <td>2191465</td>\n",
       "      <td>49152</td>\n",
       "      <td>54700</td>\n",
       "      <td>86485</td>\n",
       "      <td>284852</td>\n",
       "      <td>609755</td>\n",
       "      <td>1155673</td>\n",
       "      <td>https://images.gr-assets.com/books/1320399351m...</td>\n",
       "      <td>https://images.gr-assets.com/books/1320399351s...</td>\n",
       "    </tr>\n",
       "    <tr>\n",
       "      <th>10</th>\n",
       "      <td>11</td>\n",
       "      <td>77203</td>\n",
       "      <td>77203</td>\n",
       "      <td>3295919</td>\n",
       "      <td>283</td>\n",
       "      <td>1594480001</td>\n",
       "      <td>9.781594e+12</td>\n",
       "      <td>Khaled Hosseini</td>\n",
       "      <td>2003.0</td>\n",
       "      <td>The Kite Runner</td>\n",
       "      <td>...</td>\n",
       "      <td>1813044</td>\n",
       "      <td>1878095</td>\n",
       "      <td>59730</td>\n",
       "      <td>34288</td>\n",
       "      <td>59980</td>\n",
       "      <td>226062</td>\n",
       "      <td>628174</td>\n",
       "      <td>929591</td>\n",
       "      <td>https://images.gr-assets.com/books/1484565687m...</td>\n",
       "      <td>https://images.gr-assets.com/books/1484565687s...</td>\n",
       "    </tr>\n",
       "    <tr>\n",
       "      <th>11</th>\n",
       "      <td>12</td>\n",
       "      <td>13335037</td>\n",
       "      <td>13335037</td>\n",
       "      <td>13155899</td>\n",
       "      <td>210</td>\n",
       "      <td>62024035</td>\n",
       "      <td>9.780062e+12</td>\n",
       "      <td>Veronica Roth</td>\n",
       "      <td>2011.0</td>\n",
       "      <td>Divergent</td>\n",
       "      <td>...</td>\n",
       "      <td>1903563</td>\n",
       "      <td>2216814</td>\n",
       "      <td>101023</td>\n",
       "      <td>36315</td>\n",
       "      <td>82870</td>\n",
       "      <td>310297</td>\n",
       "      <td>673028</td>\n",
       "      <td>1114304</td>\n",
       "      <td>https://images.gr-assets.com/books/1328559506m...</td>\n",
       "      <td>https://images.gr-assets.com/books/1328559506s...</td>\n",
       "    </tr>\n",
       "    <tr>\n",
       "      <th>12</th>\n",
       "      <td>13</td>\n",
       "      <td>5470</td>\n",
       "      <td>5470</td>\n",
       "      <td>153313</td>\n",
       "      <td>995</td>\n",
       "      <td>451524934</td>\n",
       "      <td>9.780452e+12</td>\n",
       "      <td>George Orwell, Erich Fromm, Celâl Üster</td>\n",
       "      <td>1949.0</td>\n",
       "      <td>Nineteen Eighty-Four</td>\n",
       "      <td>...</td>\n",
       "      <td>1956832</td>\n",
       "      <td>2053394</td>\n",
       "      <td>45518</td>\n",
       "      <td>41845</td>\n",
       "      <td>86425</td>\n",
       "      <td>324874</td>\n",
       "      <td>692021</td>\n",
       "      <td>908229</td>\n",
       "      <td>https://images.gr-assets.com/books/1348990566m...</td>\n",
       "      <td>https://images.gr-assets.com/books/1348990566s...</td>\n",
       "    </tr>\n",
       "    <tr>\n",
       "      <th>13</th>\n",
       "      <td>14</td>\n",
       "      <td>7613</td>\n",
       "      <td>7613</td>\n",
       "      <td>2207778</td>\n",
       "      <td>896</td>\n",
       "      <td>452284244</td>\n",
       "      <td>9.780452e+12</td>\n",
       "      <td>George Orwell</td>\n",
       "      <td>1945.0</td>\n",
       "      <td>Animal Farm: A Fairy Story</td>\n",
       "      <td>...</td>\n",
       "      <td>1881700</td>\n",
       "      <td>1982987</td>\n",
       "      <td>35472</td>\n",
       "      <td>66854</td>\n",
       "      <td>135147</td>\n",
       "      <td>433432</td>\n",
       "      <td>698642</td>\n",
       "      <td>648912</td>\n",
       "      <td>https://images.gr-assets.com/books/1424037542m...</td>\n",
       "      <td>https://images.gr-assets.com/books/1424037542s...</td>\n",
       "    </tr>\n",
       "    <tr>\n",
       "      <th>14</th>\n",
       "      <td>15</td>\n",
       "      <td>48855</td>\n",
       "      <td>48855</td>\n",
       "      <td>3532896</td>\n",
       "      <td>710</td>\n",
       "      <td>553296981</td>\n",
       "      <td>9.780553e+12</td>\n",
       "      <td>Anne Frank, Eleanor Roosevelt, B.M. Mooyaart-D...</td>\n",
       "      <td>1947.0</td>\n",
       "      <td>Het Achterhuis: Dagboekbrieven 14 juni 1942 - ...</td>\n",
       "      <td>...</td>\n",
       "      <td>1972666</td>\n",
       "      <td>2024493</td>\n",
       "      <td>20825</td>\n",
       "      <td>45225</td>\n",
       "      <td>91270</td>\n",
       "      <td>355756</td>\n",
       "      <td>656870</td>\n",
       "      <td>875372</td>\n",
       "      <td>https://images.gr-assets.com/books/1358276407m...</td>\n",
       "      <td>https://images.gr-assets.com/books/1358276407s...</td>\n",
       "    </tr>\n",
       "    <tr>\n",
       "      <th>15</th>\n",
       "      <td>16</td>\n",
       "      <td>2429135</td>\n",
       "      <td>2429135</td>\n",
       "      <td>1708725</td>\n",
       "      <td>274</td>\n",
       "      <td>307269752</td>\n",
       "      <td>9.780307e+12</td>\n",
       "      <td>Stieg Larsson, Reg Keeland</td>\n",
       "      <td>2005.0</td>\n",
       "      <td>Män som hatar kvinnor</td>\n",
       "      <td>...</td>\n",
       "      <td>1808403</td>\n",
       "      <td>1929834</td>\n",
       "      <td>62543</td>\n",
       "      <td>54835</td>\n",
       "      <td>86051</td>\n",
       "      <td>285413</td>\n",
       "      <td>667485</td>\n",
       "      <td>836050</td>\n",
       "      <td>https://images.gr-assets.com/books/1327868566m...</td>\n",
       "      <td>https://images.gr-assets.com/books/1327868566s...</td>\n",
       "    </tr>\n",
       "    <tr>\n",
       "      <th>16</th>\n",
       "      <td>17</td>\n",
       "      <td>6148028</td>\n",
       "      <td>6148028</td>\n",
       "      <td>6171458</td>\n",
       "      <td>201</td>\n",
       "      <td>439023491</td>\n",
       "      <td>9.780439e+12</td>\n",
       "      <td>Suzanne Collins</td>\n",
       "      <td>2009.0</td>\n",
       "      <td>Catching Fire</td>\n",
       "      <td>...</td>\n",
       "      <td>1831039</td>\n",
       "      <td>1988079</td>\n",
       "      <td>88538</td>\n",
       "      <td>10492</td>\n",
       "      <td>48030</td>\n",
       "      <td>262010</td>\n",
       "      <td>687238</td>\n",
       "      <td>980309</td>\n",
       "      <td>https://images.gr-assets.com/books/1358273780m...</td>\n",
       "      <td>https://images.gr-assets.com/books/1358273780s...</td>\n",
       "    </tr>\n",
       "    <tr>\n",
       "      <th>17</th>\n",
       "      <td>18</td>\n",
       "      <td>5</td>\n",
       "      <td>5</td>\n",
       "      <td>2402163</td>\n",
       "      <td>376</td>\n",
       "      <td>043965548X</td>\n",
       "      <td>9.780440e+12</td>\n",
       "      <td>J.K. Rowling, Mary GrandPré, Rufus Beck</td>\n",
       "      <td>1999.0</td>\n",
       "      <td>Harry Potter and the Prisoner of Azkaban</td>\n",
       "      <td>...</td>\n",
       "      <td>1832823</td>\n",
       "      <td>1969375</td>\n",
       "      <td>36099</td>\n",
       "      <td>6716</td>\n",
       "      <td>20413</td>\n",
       "      <td>166129</td>\n",
       "      <td>509447</td>\n",
       "      <td>1266670</td>\n",
       "      <td>https://images.gr-assets.com/books/1499277281m...</td>\n",
       "      <td>https://images.gr-assets.com/books/1499277281s...</td>\n",
       "    </tr>\n",
       "    <tr>\n",
       "      <th>18</th>\n",
       "      <td>19</td>\n",
       "      <td>34</td>\n",
       "      <td>34</td>\n",
       "      <td>3204327</td>\n",
       "      <td>566</td>\n",
       "      <td>618346252</td>\n",
       "      <td>9.780618e+12</td>\n",
       "      <td>J.R.R. Tolkien</td>\n",
       "      <td>1954.0</td>\n",
       "      <td>The Fellowship of the Ring</td>\n",
       "      <td>...</td>\n",
       "      <td>1766803</td>\n",
       "      <td>1832541</td>\n",
       "      <td>15333</td>\n",
       "      <td>38031</td>\n",
       "      <td>55862</td>\n",
       "      <td>202332</td>\n",
       "      <td>493922</td>\n",
       "      <td>1042394</td>\n",
       "      <td>https://images.gr-assets.com/books/1298411339m...</td>\n",
       "      <td>https://images.gr-assets.com/books/1298411339s...</td>\n",
       "    </tr>\n",
       "    <tr>\n",
       "      <th>19</th>\n",
       "      <td>20</td>\n",
       "      <td>7260188</td>\n",
       "      <td>7260188</td>\n",
       "      <td>8812783</td>\n",
       "      <td>239</td>\n",
       "      <td>439023513</td>\n",
       "      <td>9.780439e+12</td>\n",
       "      <td>Suzanne Collins</td>\n",
       "      <td>2010.0</td>\n",
       "      <td>Mockingjay</td>\n",
       "      <td>...</td>\n",
       "      <td>1719760</td>\n",
       "      <td>1870748</td>\n",
       "      <td>96274</td>\n",
       "      <td>30144</td>\n",
       "      <td>110498</td>\n",
       "      <td>373060</td>\n",
       "      <td>618271</td>\n",
       "      <td>738775</td>\n",
       "      <td>https://images.gr-assets.com/books/1358275419m...</td>\n",
       "      <td>https://images.gr-assets.com/books/1358275419s...</td>\n",
       "    </tr>\n",
       "    <tr>\n",
       "      <th>20</th>\n",
       "      <td>21</td>\n",
       "      <td>2</td>\n",
       "      <td>2</td>\n",
       "      <td>2809203</td>\n",
       "      <td>307</td>\n",
       "      <td>439358078</td>\n",
       "      <td>9.780439e+12</td>\n",
       "      <td>J.K. Rowling, Mary GrandPré</td>\n",
       "      <td>2003.0</td>\n",
       "      <td>Harry Potter and the Order of the Phoenix</td>\n",
       "      <td>...</td>\n",
       "      <td>1735368</td>\n",
       "      <td>1840548</td>\n",
       "      <td>28685</td>\n",
       "      <td>9528</td>\n",
       "      <td>31577</td>\n",
       "      <td>180210</td>\n",
       "      <td>494427</td>\n",
       "      <td>1124806</td>\n",
       "      <td>https://images.gr-assets.com/books/1387141547m...</td>\n",
       "      <td>https://images.gr-assets.com/books/1387141547s...</td>\n",
       "    </tr>\n",
       "    <tr>\n",
       "      <th>21</th>\n",
       "      <td>22</td>\n",
       "      <td>12232938</td>\n",
       "      <td>12232938</td>\n",
       "      <td>1145090</td>\n",
       "      <td>183</td>\n",
       "      <td>316166685</td>\n",
       "      <td>9.780316e+12</td>\n",
       "      <td>Alice Sebold</td>\n",
       "      <td>2002.0</td>\n",
       "      <td>The Lovely Bones</td>\n",
       "      <td>...</td>\n",
       "      <td>1605173</td>\n",
       "      <td>1661562</td>\n",
       "      <td>36642</td>\n",
       "      <td>62777</td>\n",
       "      <td>131188</td>\n",
       "      <td>404699</td>\n",
       "      <td>583575</td>\n",
       "      <td>479323</td>\n",
       "      <td>https://images.gr-assets.com/books/1457810586m...</td>\n",
       "      <td>https://images.gr-assets.com/books/1457810586s...</td>\n",
       "    </tr>\n",
       "    <tr>\n",
       "      <th>22</th>\n",
       "      <td>23</td>\n",
       "      <td>15881</td>\n",
       "      <td>15881</td>\n",
       "      <td>6231171</td>\n",
       "      <td>398</td>\n",
       "      <td>439064864</td>\n",
       "      <td>9.780439e+12</td>\n",
       "      <td>J.K. Rowling, Mary GrandPré</td>\n",
       "      <td>1998.0</td>\n",
       "      <td>Harry Potter and the Chamber of Secrets</td>\n",
       "      <td>...</td>\n",
       "      <td>1779331</td>\n",
       "      <td>1906199</td>\n",
       "      <td>34172</td>\n",
       "      <td>8253</td>\n",
       "      <td>42251</td>\n",
       "      <td>242345</td>\n",
       "      <td>548266</td>\n",
       "      <td>1065084</td>\n",
       "      <td>https://images.gr-assets.com/books/1474169725m...</td>\n",
       "      <td>https://images.gr-assets.com/books/1474169725s...</td>\n",
       "    </tr>\n",
       "    <tr>\n",
       "      <th>23</th>\n",
       "      <td>24</td>\n",
       "      <td>6</td>\n",
       "      <td>6</td>\n",
       "      <td>3046572</td>\n",
       "      <td>332</td>\n",
       "      <td>439139600</td>\n",
       "      <td>9.780439e+12</td>\n",
       "      <td>J.K. Rowling, Mary GrandPré</td>\n",
       "      <td>2000.0</td>\n",
       "      <td>Harry Potter and the Goblet of Fire</td>\n",
       "      <td>...</td>\n",
       "      <td>1753043</td>\n",
       "      <td>1868642</td>\n",
       "      <td>31084</td>\n",
       "      <td>6676</td>\n",
       "      <td>20210</td>\n",
       "      <td>151785</td>\n",
       "      <td>494926</td>\n",
       "      <td>1195045</td>\n",
       "      <td>https://images.gr-assets.com/books/1361482611m...</td>\n",
       "      <td>https://images.gr-assets.com/books/1361482611s...</td>\n",
       "    </tr>\n",
       "    <tr>\n",
       "      <th>24</th>\n",
       "      <td>25</td>\n",
       "      <td>136251</td>\n",
       "      <td>136251</td>\n",
       "      <td>2963218</td>\n",
       "      <td>263</td>\n",
       "      <td>545010225</td>\n",
       "      <td>9.780545e+12</td>\n",
       "      <td>J.K. Rowling, Mary GrandPré</td>\n",
       "      <td>2007.0</td>\n",
       "      <td>Harry Potter and the Deathly Hallows</td>\n",
       "      <td>...</td>\n",
       "      <td>1746574</td>\n",
       "      <td>1847395</td>\n",
       "      <td>51942</td>\n",
       "      <td>9363</td>\n",
       "      <td>22245</td>\n",
       "      <td>113646</td>\n",
       "      <td>383914</td>\n",
       "      <td>1318227</td>\n",
       "      <td>https://images.gr-assets.com/books/1474171184m...</td>\n",
       "      <td>https://images.gr-assets.com/books/1474171184s...</td>\n",
       "    </tr>\n",
       "    <tr>\n",
       "      <th>25</th>\n",
       "      <td>26</td>\n",
       "      <td>968</td>\n",
       "      <td>968</td>\n",
       "      <td>2982101</td>\n",
       "      <td>350</td>\n",
       "      <td>307277674</td>\n",
       "      <td>9.780307e+12</td>\n",
       "      <td>Dan Brown</td>\n",
       "      <td>2003.0</td>\n",
       "      <td>The Da Vinci Code</td>\n",
       "      <td>...</td>\n",
       "      <td>1447148</td>\n",
       "      <td>1557292</td>\n",
       "      <td>41560</td>\n",
       "      <td>71345</td>\n",
       "      <td>126493</td>\n",
       "      <td>340790</td>\n",
       "      <td>539277</td>\n",
       "      <td>479387</td>\n",
       "      <td>https://images.gr-assets.com/books/1303252999m...</td>\n",
       "      <td>https://images.gr-assets.com/books/1303252999s...</td>\n",
       "    </tr>\n",
       "    <tr>\n",
       "      <th>26</th>\n",
       "      <td>27</td>\n",
       "      <td>1</td>\n",
       "      <td>1</td>\n",
       "      <td>41335427</td>\n",
       "      <td>275</td>\n",
       "      <td>439785960</td>\n",
       "      <td>9.780440e+12</td>\n",
       "      <td>J.K. Rowling, Mary GrandPré</td>\n",
       "      <td>2005.0</td>\n",
       "      <td>Harry Potter and the Half-Blood Prince</td>\n",
       "      <td>...</td>\n",
       "      <td>1678823</td>\n",
       "      <td>1785676</td>\n",
       "      <td>27520</td>\n",
       "      <td>7308</td>\n",
       "      <td>21516</td>\n",
       "      <td>136333</td>\n",
       "      <td>459028</td>\n",
       "      <td>1161491</td>\n",
       "      <td>https://images.gr-assets.com/books/1361039191m...</td>\n",
       "      <td>https://images.gr-assets.com/books/1361039191s...</td>\n",
       "    </tr>\n",
       "    <tr>\n",
       "      <th>27</th>\n",
       "      <td>28</td>\n",
       "      <td>7624</td>\n",
       "      <td>7624</td>\n",
       "      <td>2766512</td>\n",
       "      <td>458</td>\n",
       "      <td>140283331</td>\n",
       "      <td>9.780140e+12</td>\n",
       "      <td>William Golding</td>\n",
       "      <td>1954.0</td>\n",
       "      <td>Lord of the Flies</td>\n",
       "      <td>...</td>\n",
       "      <td>1605019</td>\n",
       "      <td>1671484</td>\n",
       "      <td>26886</td>\n",
       "      <td>92779</td>\n",
       "      <td>160295</td>\n",
       "      <td>425648</td>\n",
       "      <td>564916</td>\n",
       "      <td>427846</td>\n",
       "      <td>https://images.gr-assets.com/books/1327869409m...</td>\n",
       "      <td>https://images.gr-assets.com/books/1327869409s...</td>\n",
       "    </tr>\n",
       "    <tr>\n",
       "      <th>28</th>\n",
       "      <td>29</td>\n",
       "      <td>18135</td>\n",
       "      <td>18135</td>\n",
       "      <td>3349450</td>\n",
       "      <td>1937</td>\n",
       "      <td>743477111</td>\n",
       "      <td>9.780743e+12</td>\n",
       "      <td>William Shakespeare, Robert           Jackson</td>\n",
       "      <td>1595.0</td>\n",
       "      <td>An Excellent conceited Tragedie of Romeo and J...</td>\n",
       "      <td>...</td>\n",
       "      <td>1628519</td>\n",
       "      <td>1672889</td>\n",
       "      <td>14778</td>\n",
       "      <td>57980</td>\n",
       "      <td>153179</td>\n",
       "      <td>452673</td>\n",
       "      <td>519822</td>\n",
       "      <td>489235</td>\n",
       "      <td>https://images.gr-assets.com/books/1327872146m...</td>\n",
       "      <td>https://images.gr-assets.com/books/1327872146s...</td>\n",
       "    </tr>\n",
       "    <tr>\n",
       "      <th>29</th>\n",
       "      <td>30</td>\n",
       "      <td>8442457</td>\n",
       "      <td>19288043</td>\n",
       "      <td>13306276</td>\n",
       "      <td>196</td>\n",
       "      <td>297859382</td>\n",
       "      <td>9.780298e+12</td>\n",
       "      <td>Gillian Flynn</td>\n",
       "      <td>2012.0</td>\n",
       "      <td>Gone Girl</td>\n",
       "      <td>...</td>\n",
       "      <td>512475</td>\n",
       "      <td>1626519</td>\n",
       "      <td>121614</td>\n",
       "      <td>38874</td>\n",
       "      <td>80807</td>\n",
       "      <td>280331</td>\n",
       "      <td>616031</td>\n",
       "      <td>610476</td>\n",
       "      <td>https://images.gr-assets.com/books/1339602131m...</td>\n",
       "      <td>https://images.gr-assets.com/books/1339602131s...</td>\n",
       "    </tr>\n",
       "  </tbody>\n",
       "</table>\n",
       "<p>30 rows × 23 columns</p>\n",
       "</div>"
      ],
      "text/plain": [
       "    book_id  goodreads_book_id  best_book_id   work_id  books_count  \\\n",
       "0         1            2767052       2767052   2792775          272   \n",
       "1         2                  3             3   4640799          491   \n",
       "2         3              41865         41865   3212258          226   \n",
       "3         4               2657          2657   3275794          487   \n",
       "4         5               4671          4671    245494         1356   \n",
       "5         6           11870085      11870085  16827462          226   \n",
       "6         7               5907          5907   1540236          969   \n",
       "7         8               5107          5107   3036731          360   \n",
       "8         9                960           960   3338963          311   \n",
       "9        10               1885          1885   3060926         3455   \n",
       "10       11              77203         77203   3295919          283   \n",
       "11       12           13335037      13335037  13155899          210   \n",
       "12       13               5470          5470    153313          995   \n",
       "13       14               7613          7613   2207778          896   \n",
       "14       15              48855         48855   3532896          710   \n",
       "15       16            2429135       2429135   1708725          274   \n",
       "16       17            6148028       6148028   6171458          201   \n",
       "17       18                  5             5   2402163          376   \n",
       "18       19                 34            34   3204327          566   \n",
       "19       20            7260188       7260188   8812783          239   \n",
       "20       21                  2             2   2809203          307   \n",
       "21       22           12232938      12232938   1145090          183   \n",
       "22       23              15881         15881   6231171          398   \n",
       "23       24                  6             6   3046572          332   \n",
       "24       25             136251        136251   2963218          263   \n",
       "25       26                968           968   2982101          350   \n",
       "26       27                  1             1  41335427          275   \n",
       "27       28               7624          7624   2766512          458   \n",
       "28       29              18135         18135   3349450         1937   \n",
       "29       30            8442457      19288043  13306276          196   \n",
       "\n",
       "          isbn        isbn13  \\\n",
       "0    439023483  9.780439e+12   \n",
       "1    439554934  9.780440e+12   \n",
       "2    316015849  9.780316e+12   \n",
       "3     61120081  9.780061e+12   \n",
       "4    743273567  9.780743e+12   \n",
       "5    525478817  9.780525e+12   \n",
       "6    618260307  9.780618e+12   \n",
       "7    316769177  9.780317e+12   \n",
       "8   1416524797  9.781417e+12   \n",
       "9    679783261  9.780680e+12   \n",
       "10  1594480001  9.781594e+12   \n",
       "11    62024035  9.780062e+12   \n",
       "12   451524934  9.780452e+12   \n",
       "13   452284244  9.780452e+12   \n",
       "14   553296981  9.780553e+12   \n",
       "15   307269752  9.780307e+12   \n",
       "16   439023491  9.780439e+12   \n",
       "17  043965548X  9.780440e+12   \n",
       "18   618346252  9.780618e+12   \n",
       "19   439023513  9.780439e+12   \n",
       "20   439358078  9.780439e+12   \n",
       "21   316166685  9.780316e+12   \n",
       "22   439064864  9.780439e+12   \n",
       "23   439139600  9.780439e+12   \n",
       "24   545010225  9.780545e+12   \n",
       "25   307277674  9.780307e+12   \n",
       "26   439785960  9.780440e+12   \n",
       "27   140283331  9.780140e+12   \n",
       "28   743477111  9.780743e+12   \n",
       "29   297859382  9.780298e+12   \n",
       "\n",
       "                                              authors  \\\n",
       "0                                     Suzanne Collins   \n",
       "1                         J.K. Rowling, Mary GrandPré   \n",
       "2                                     Stephenie Meyer   \n",
       "3                                          Harper Lee   \n",
       "4                                 F. Scott Fitzgerald   \n",
       "5                                          John Green   \n",
       "6                                      J.R.R. Tolkien   \n",
       "7                                       J.D. Salinger   \n",
       "8                                           Dan Brown   \n",
       "9                                         Jane Austen   \n",
       "10                                    Khaled Hosseini   \n",
       "11                                      Veronica Roth   \n",
       "12            George Orwell, Erich Fromm, Celâl Üster   \n",
       "13                                      George Orwell   \n",
       "14  Anne Frank, Eleanor Roosevelt, B.M. Mooyaart-D...   \n",
       "15                         Stieg Larsson, Reg Keeland   \n",
       "16                                    Suzanne Collins   \n",
       "17            J.K. Rowling, Mary GrandPré, Rufus Beck   \n",
       "18                                     J.R.R. Tolkien   \n",
       "19                                    Suzanne Collins   \n",
       "20                        J.K. Rowling, Mary GrandPré   \n",
       "21                                       Alice Sebold   \n",
       "22                        J.K. Rowling, Mary GrandPré   \n",
       "23                        J.K. Rowling, Mary GrandPré   \n",
       "24                        J.K. Rowling, Mary GrandPré   \n",
       "25                                          Dan Brown   \n",
       "26                        J.K. Rowling, Mary GrandPré   \n",
       "27                                    William Golding   \n",
       "28      William Shakespeare, Robert           Jackson   \n",
       "29                                      Gillian Flynn   \n",
       "\n",
       "    original_publication_year  \\\n",
       "0                      2008.0   \n",
       "1                      1997.0   \n",
       "2                      2005.0   \n",
       "3                      1960.0   \n",
       "4                      1925.0   \n",
       "5                      2012.0   \n",
       "6                      1937.0   \n",
       "7                      1951.0   \n",
       "8                      2000.0   \n",
       "9                      1813.0   \n",
       "10                     2003.0   \n",
       "11                     2011.0   \n",
       "12                     1949.0   \n",
       "13                     1945.0   \n",
       "14                     1947.0   \n",
       "15                     2005.0   \n",
       "16                     2009.0   \n",
       "17                     1999.0   \n",
       "18                     1954.0   \n",
       "19                     2010.0   \n",
       "20                     2003.0   \n",
       "21                     2002.0   \n",
       "22                     1998.0   \n",
       "23                     2000.0   \n",
       "24                     2007.0   \n",
       "25                     2003.0   \n",
       "26                     2005.0   \n",
       "27                     1954.0   \n",
       "28                     1595.0   \n",
       "29                     2012.0   \n",
       "\n",
       "                                       original_title  ... ratings_count  \\\n",
       "0                                    The Hunger Games  ...       4780653   \n",
       "1            Harry Potter and the Philosopher's Stone  ...       4602479   \n",
       "2                                            Twilight  ...       3866839   \n",
       "3                               To Kill a Mockingbird  ...       3198671   \n",
       "4                                    The Great Gatsby  ...       2683664   \n",
       "5                              The Fault in Our Stars  ...       2346404   \n",
       "6                  The Hobbit or There and Back Again  ...       2071616   \n",
       "7                              The Catcher in the Rye  ...       2044241   \n",
       "8                                    Angels & Demons   ...       2001311   \n",
       "9                                 Pride and Prejudice  ...       2035490   \n",
       "10                                   The Kite Runner   ...       1813044   \n",
       "11                                          Divergent  ...       1903563   \n",
       "12                               Nineteen Eighty-Four  ...       1956832   \n",
       "13                         Animal Farm: A Fairy Story  ...       1881700   \n",
       "14  Het Achterhuis: Dagboekbrieven 14 juni 1942 - ...  ...       1972666   \n",
       "15                              Män som hatar kvinnor  ...       1808403   \n",
       "16                                      Catching Fire  ...       1831039   \n",
       "17           Harry Potter and the Prisoner of Azkaban  ...       1832823   \n",
       "18                         The Fellowship of the Ring  ...       1766803   \n",
       "19                                         Mockingjay  ...       1719760   \n",
       "20          Harry Potter and the Order of the Phoenix  ...       1735368   \n",
       "21                                   The Lovely Bones  ...       1605173   \n",
       "22            Harry Potter and the Chamber of Secrets  ...       1779331   \n",
       "23                Harry Potter and the Goblet of Fire  ...       1753043   \n",
       "24               Harry Potter and the Deathly Hallows  ...       1746574   \n",
       "25                                  The Da Vinci Code  ...       1447148   \n",
       "26             Harry Potter and the Half-Blood Prince  ...       1678823   \n",
       "27                                 Lord of the Flies   ...       1605019   \n",
       "28  An Excellent conceited Tragedie of Romeo and J...  ...       1628519   \n",
       "29                                          Gone Girl  ...        512475   \n",
       "\n",
       "   work_ratings_count  work_text_reviews_count  ratings_1  ratings_2  \\\n",
       "0             4942365                   155254      66715     127936   \n",
       "1             4800065                    75867      75504     101676   \n",
       "2             3916824                    95009     456191     436802   \n",
       "3             3340896                    72586      60427     117415   \n",
       "4             2773745                    51992      86236     197621   \n",
       "5             2478609                   140739      47994      92723   \n",
       "6             2196809                    37653      46023      76784   \n",
       "7             2120637                    44920     109383     185520   \n",
       "8             2078754                    25112      77841     145740   \n",
       "9             2191465                    49152      54700      86485   \n",
       "10            1878095                    59730      34288      59980   \n",
       "11            2216814                   101023      36315      82870   \n",
       "12            2053394                    45518      41845      86425   \n",
       "13            1982987                    35472      66854     135147   \n",
       "14            2024493                    20825      45225      91270   \n",
       "15            1929834                    62543      54835      86051   \n",
       "16            1988079                    88538      10492      48030   \n",
       "17            1969375                    36099       6716      20413   \n",
       "18            1832541                    15333      38031      55862   \n",
       "19            1870748                    96274      30144     110498   \n",
       "20            1840548                    28685       9528      31577   \n",
       "21            1661562                    36642      62777     131188   \n",
       "22            1906199                    34172       8253      42251   \n",
       "23            1868642                    31084       6676      20210   \n",
       "24            1847395                    51942       9363      22245   \n",
       "25            1557292                    41560      71345     126493   \n",
       "26            1785676                    27520       7308      21516   \n",
       "27            1671484                    26886      92779     160295   \n",
       "28            1672889                    14778      57980     153179   \n",
       "29            1626519                   121614      38874      80807   \n",
       "\n",
       "    ratings_3  ratings_4  ratings_5  \\\n",
       "0      560092    1481305    2706317   \n",
       "1      455024    1156318    3011543   \n",
       "2      793319     875073    1355439   \n",
       "3      446835    1001952    1714267   \n",
       "4      606158     936012     947718   \n",
       "5      327550     698471    1311871   \n",
       "6      288649     665635    1119718   \n",
       "7      455042     661516     709176   \n",
       "8      458429     716569     680175   \n",
       "9      284852     609755    1155673   \n",
       "10     226062     628174     929591   \n",
       "11     310297     673028    1114304   \n",
       "12     324874     692021     908229   \n",
       "13     433432     698642     648912   \n",
       "14     355756     656870     875372   \n",
       "15     285413     667485     836050   \n",
       "16     262010     687238     980309   \n",
       "17     166129     509447    1266670   \n",
       "18     202332     493922    1042394   \n",
       "19     373060     618271     738775   \n",
       "20     180210     494427    1124806   \n",
       "21     404699     583575     479323   \n",
       "22     242345     548266    1065084   \n",
       "23     151785     494926    1195045   \n",
       "24     113646     383914    1318227   \n",
       "25     340790     539277     479387   \n",
       "26     136333     459028    1161491   \n",
       "27     425648     564916     427846   \n",
       "28     452673     519822     489235   \n",
       "29     280331     616031     610476   \n",
       "\n",
       "                                            image_url  \\\n",
       "0   https://images.gr-assets.com/books/1447303603m...   \n",
       "1   https://images.gr-assets.com/books/1474154022m...   \n",
       "2   https://images.gr-assets.com/books/1361039443m...   \n",
       "3   https://images.gr-assets.com/books/1361975680m...   \n",
       "4   https://images.gr-assets.com/books/1490528560m...   \n",
       "5   https://images.gr-assets.com/books/1360206420m...   \n",
       "6   https://images.gr-assets.com/books/1372847500m...   \n",
       "7   https://images.gr-assets.com/books/1398034300m...   \n",
       "8   https://images.gr-assets.com/books/1303390735m...   \n",
       "9   https://images.gr-assets.com/books/1320399351m...   \n",
       "10  https://images.gr-assets.com/books/1484565687m...   \n",
       "11  https://images.gr-assets.com/books/1328559506m...   \n",
       "12  https://images.gr-assets.com/books/1348990566m...   \n",
       "13  https://images.gr-assets.com/books/1424037542m...   \n",
       "14  https://images.gr-assets.com/books/1358276407m...   \n",
       "15  https://images.gr-assets.com/books/1327868566m...   \n",
       "16  https://images.gr-assets.com/books/1358273780m...   \n",
       "17  https://images.gr-assets.com/books/1499277281m...   \n",
       "18  https://images.gr-assets.com/books/1298411339m...   \n",
       "19  https://images.gr-assets.com/books/1358275419m...   \n",
       "20  https://images.gr-assets.com/books/1387141547m...   \n",
       "21  https://images.gr-assets.com/books/1457810586m...   \n",
       "22  https://images.gr-assets.com/books/1474169725m...   \n",
       "23  https://images.gr-assets.com/books/1361482611m...   \n",
       "24  https://images.gr-assets.com/books/1474171184m...   \n",
       "25  https://images.gr-assets.com/books/1303252999m...   \n",
       "26  https://images.gr-assets.com/books/1361039191m...   \n",
       "27  https://images.gr-assets.com/books/1327869409m...   \n",
       "28  https://images.gr-assets.com/books/1327872146m...   \n",
       "29  https://images.gr-assets.com/books/1339602131m...   \n",
       "\n",
       "                                      small_image_url  \n",
       "0   https://images.gr-assets.com/books/1447303603s...  \n",
       "1   https://images.gr-assets.com/books/1474154022s...  \n",
       "2   https://images.gr-assets.com/books/1361039443s...  \n",
       "3   https://images.gr-assets.com/books/1361975680s...  \n",
       "4   https://images.gr-assets.com/books/1490528560s...  \n",
       "5   https://images.gr-assets.com/books/1360206420s...  \n",
       "6   https://images.gr-assets.com/books/1372847500s...  \n",
       "7   https://images.gr-assets.com/books/1398034300s...  \n",
       "8   https://images.gr-assets.com/books/1303390735s...  \n",
       "9   https://images.gr-assets.com/books/1320399351s...  \n",
       "10  https://images.gr-assets.com/books/1484565687s...  \n",
       "11  https://images.gr-assets.com/books/1328559506s...  \n",
       "12  https://images.gr-assets.com/books/1348990566s...  \n",
       "13  https://images.gr-assets.com/books/1424037542s...  \n",
       "14  https://images.gr-assets.com/books/1358276407s...  \n",
       "15  https://images.gr-assets.com/books/1327868566s...  \n",
       "16  https://images.gr-assets.com/books/1358273780s...  \n",
       "17  https://images.gr-assets.com/books/1499277281s...  \n",
       "18  https://images.gr-assets.com/books/1298411339s...  \n",
       "19  https://images.gr-assets.com/books/1358275419s...  \n",
       "20  https://images.gr-assets.com/books/1387141547s...  \n",
       "21  https://images.gr-assets.com/books/1457810586s...  \n",
       "22  https://images.gr-assets.com/books/1474169725s...  \n",
       "23  https://images.gr-assets.com/books/1361482611s...  \n",
       "24  https://images.gr-assets.com/books/1474171184s...  \n",
       "25  https://images.gr-assets.com/books/1303252999s...  \n",
       "26  https://images.gr-assets.com/books/1361039191s...  \n",
       "27  https://images.gr-assets.com/books/1327869409s...  \n",
       "28  https://images.gr-assets.com/books/1327872146s...  \n",
       "29  https://images.gr-assets.com/books/1339602131s...  \n",
       "\n",
       "[30 rows x 23 columns]"
      ]
     },
     "execution_count": 73,
     "metadata": {},
     "output_type": "execute_result"
    }
   ],
   "source": [
    "books = pd.read_csv('goodbooks-10k-master/books.csv')\n",
    "books.head(30)"
   ]
  },
  {
   "cell_type": "code",
   "execution_count": 74,
   "metadata": {},
   "outputs": [
    {
     "data": {
      "text/plain": [
       "array([-0.11418781,  0.03237452, -0.09745414,  0.22580427, -0.05947193,\n",
       "       -0.01271509,  0.02558159,  0.09900066,  0.13317715,  0.07843966,\n",
       "        0.07551242,  0.1547276 ,  0.02412163,  0.17634785, -0.04864031,\n",
       "       -0.14394015,  0.21433015, -0.08434381,  0.09133121, -0.09055829,\n",
       "        0.04147782, -0.17673947,  0.18880348, -0.10982049,  0.07107463,\n",
       "       -0.06382209, -0.24918886, -0.12466851, -0.16878393, -0.20764002,\n",
       "        0.30093053, -0.07783522, -0.08971309, -0.22646411, -0.23340195,\n",
       "        0.30912971,  0.08318889,  0.02772594, -0.15216407, -0.14932548,\n",
       "       -0.52286655,  0.1789505 ,  0.07844093,  0.01124645,  0.01917026,\n",
       "       -0.08447771, -0.02698627, -0.15111247, -0.16096362,  0.06417839],\n",
       "      dtype=float32)"
      ]
     },
     "execution_count": 74,
     "metadata": {},
     "output_type": "execute_result"
    }
   ],
   "source": [
    "book_vectors[1]"
   ]
  },
  {
   "cell_type": "code",
   "execution_count": 75,
   "metadata": {},
   "outputs": [
    {
     "data": {
      "text/plain": [
       "0.94914025"
      ]
     },
     "execution_count": 75,
     "metadata": {},
     "output_type": "execute_result"
    }
   ],
   "source": [
    "# Hunger Games vs. Catching Fire\n",
    "cosine_sim(book_vectors[1],book_vectors[17])"
   ]
  },
  {
   "cell_type": "code",
   "execution_count": 76,
   "metadata": {},
   "outputs": [
    {
     "data": {
      "text/plain": [
       "0.5469519"
      ]
     },
     "execution_count": 76,
     "metadata": {},
     "output_type": "execute_result"
    }
   ],
   "source": [
    "# Harry potter #2 vs. Harry potter #3\n",
    "cosine_sim(book_vectors[22],book_vectors[17])"
   ]
  },
  {
   "cell_type": "code",
   "execution_count": 86,
   "metadata": {},
   "outputs": [
    {
     "data": {
      "text/plain": [
       "0.24707398"
      ]
     },
     "execution_count": 86,
     "metadata": {},
     "output_type": "execute_result"
    }
   ],
   "source": [
    "cosine_sim(book_vectors[34],book_vectors[7])"
   ]
  },
  {
   "cell_type": "code",
   "execution_count": null,
   "metadata": {},
   "outputs": [],
   "source": [
    "def similar_books(book_id,book_dict,nr_recs=10):\n",
    "    vec_i = book_dict[book_id]['tag_vector']\n",
    "    recs_list = []\n",
    "    for rec_id,rec_dict in book_dict.items():\n",
    "        if rec_id != book_id:\n",
    "            rec_vec = book_dict[rec_id]['tag_vector']\n",
    "            sim_ij = cosine_sim(vec_i,rec_vec)\n",
    "            recs_list.append((rec_id\n",
    "                              ,book_dict[rec_id]['book_title']\n",
    "                              ,book_dict[rec_id]['authors']\n",
    "                              ,sim_ij))\n",
    "    recs_list.sort(key=itemgetter(3),reverse=True)\n",
    "    return recs_list[:nr_recs]\n"
   ]
  },
  {
   "cell_type": "code",
   "execution_count": 88,
   "metadata": {},
   "outputs": [
    {
     "data": {
      "text/plain": [
       "numpy.ndarray"
      ]
     },
     "execution_count": 88,
     "metadata": {},
     "output_type": "execute_result"
    }
   ],
   "source": []
  },
  {
   "cell_type": "code",
   "execution_count": 89,
   "metadata": {},
   "outputs": [
    {
     "data": {
      "text/plain": [
       "array([ 0.02191124,  0.00031251,  0.02951003, -0.0022561 ,  0.04848644,\n",
       "       -0.01351795, -0.02550118,  0.03073582, -0.00096082, -0.01759486,\n",
       "       -0.03895646,  0.02693613,  0.04113272,  0.0169766 ,  0.03007608,\n",
       "        0.03003671,  0.03501724,  0.00593572,  0.00429562, -0.01825724,\n",
       "       -0.01363432, -0.04738292,  0.00636296,  0.04361651, -0.04780853,\n",
       "        0.02841511, -0.02854743, -0.01028212,  0.04357059,  0.04920341,\n",
       "        0.02648291, -0.0339924 ,  0.01854458,  0.03787554,  0.00708349,\n",
       "        0.03737992, -0.0266271 ,  0.01179857, -0.00340716,  0.04267389,\n",
       "       -0.00982506, -0.04695057, -0.01692627, -0.01525564, -0.04473796,\n",
       "       -0.01004294, -0.03895345, -0.00761893, -0.04410977, -0.04286149],\n",
       "      dtype=float32)"
      ]
     },
     "execution_count": 89,
     "metadata": {},
     "output_type": "execute_result"
    }
   ],
   "source": [
    "book_vectors[0]"
   ]
  },
  {
   "cell_type": "code",
   "execution_count": null,
   "metadata": {},
   "outputs": [],
   "source": []
  }
 ],
 "metadata": {
  "kernelspec": {
   "display_name": "Python 3",
   "language": "python",
   "name": "python3"
  },
  "language_info": {
   "codemirror_mode": {
    "name": "ipython",
    "version": 3
   },
   "file_extension": ".py",
   "mimetype": "text/x-python",
   "name": "python",
   "nbconvert_exporter": "python",
   "pygments_lexer": "ipython3",
   "version": "3.6.8"
  }
 },
 "nbformat": 4,
 "nbformat_minor": 2
}
